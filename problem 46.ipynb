{
 "cells": [
  {
   "cell_type": "markdown",
   "metadata": {},
   "source": [
    "정수 3개를 입력받아 합과 평균을 출력해보자.\n",
    "단, -2147483648 ~ +2147483647\n",
    "\n",
    "입력\n",
    "\n",
    "정수 3개가 공백을 두고 입력된다.\n",
    "단, -2147483648 ~ +2147483647\n",
    "\n",
    "\n",
    "출력\n",
    "\n",
    "합과 평균을 줄을 바꿔 출력한다.\n",
    "평균은 소수점 이하 둘째 자리에서 반올림해서 소수점 이하 첫째 자리까지 출력한다.\n"
   ]
  },
  {
   "cell_type": "code",
   "execution_count": 2,
   "metadata": {},
   "outputs": [
    {
     "name": "stdout",
     "output_type": "stream",
     "text": [
      "4 5 6\n",
      "15\n",
      "5.0\n"
     ]
    }
   ],
   "source": [
    "values = input()\n",
    "a, b, c = values.split(' ')\n",
    "a = int(a)\n",
    "b = int(b)\n",
    "c = int(c)\n",
    "ssum = a + b + c\n",
    "avg = (a + b + c) / 3\n",
    "print(ssum)\n",
    "print('%.1f' %avg)"
   ]
  }
 ],
 "metadata": {
  "kernelspec": {
   "display_name": "Python 3",
   "language": "python",
   "name": "python3"
  },
  "language_info": {
   "codemirror_mode": {
    "name": "ipython",
    "version": 3
   },
   "file_extension": ".py",
   "mimetype": "text/x-python",
   "name": "python",
   "nbconvert_exporter": "python",
   "pygments_lexer": "ipython3",
   "version": "3.7.9"
  }
 },
 "nbformat": 4,
 "nbformat_minor": 4
}
