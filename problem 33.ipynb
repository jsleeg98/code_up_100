{
 "cells": [
  {
   "cell_type": "code",
   "execution_count": 1,
   "metadata": {},
   "outputs": [
    {
     "data": {
      "text/plain": [
       "'\\n10진수를 입력받아 16진수(hexadecimal)로 출력해보자.\\n\\n참고\\n%d(10진수 형태)로 입력받고\\n%X로 출력하면 16진수(hexadecimal) 대문자로 출력된다.\\n\\n10진법은 한 자리에 10개(0 1 2 3 4 5 6 7 8 9)의 문자를 사용하고,\\n16진법은 한 자리에 16개(0 1 2 3 4 5 6 7 8 9 A B C D E F)의 문자를 사용한다.\\n(알파벳 대소문자는 표현만 다르고 같은 값을 의미한다.)\\n16진법의 A는 10진법의 10, B는 11, C는 12 ... 와 같다.\\n\\n'"
      ]
     },
     "execution_count": 1,
     "metadata": {},
     "output_type": "execute_result"
    }
   ],
   "source": [
    "\"\"\"\n",
    "10진수를 입력받아 16진수(hexadecimal)로 출력해보자.\n",
    "\n",
    "참고\n",
    "%d(10진수 형태)로 입력받고\n",
    "%X로 출력하면 16진수(hexadecimal) 대문자로 출력된다.\n",
    "\n",
    "10진법은 한 자리에 10개(0 1 2 3 4 5 6 7 8 9)의 문자를 사용하고,\n",
    "16진법은 한 자리에 16개(0 1 2 3 4 5 6 7 8 9 A B C D E F)의 문자를 사용한다.\n",
    "(알파벳 대소문자는 표현만 다르고 같은 값을 의미한다.)\n",
    "16진법의 A는 10진법의 10, B는 11, C는 12 ... 와 같다.\n",
    "\n",
    "\"\"\""
   ]
  },
  {
   "cell_type": "code",
   "execution_count": 4,
   "metadata": {},
   "outputs": [
    {
     "name": "stdout",
     "output_type": "stream",
     "text": [
      "16\n",
      "10\n"
     ]
    }
   ],
   "source": [
    "a = int(input())\n",
    "a = hex(a)\n",
    "b,c = a.split(\"x\")\n",
    "c = c.upper()\n",
    "print(c)"
   ]
  }
 ],
 "metadata": {
  "kernelspec": {
   "display_name": "Python 3",
   "language": "python",
   "name": "python3"
  },
  "language_info": {
   "codemirror_mode": {
    "name": "ipython",
    "version": 3
   },
   "file_extension": ".py",
   "mimetype": "text/x-python",
   "name": "python",
   "nbconvert_exporter": "python",
   "pygments_lexer": "ipython3",
   "version": "3.7.9"
  }
 },
 "nbformat": 4,
 "nbformat_minor": 4
}
