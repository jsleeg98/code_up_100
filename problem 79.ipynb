{
 "cells": [
  {
   "cell_type": "markdown",
   "metadata": {},
   "source": [
    "'q'가 입력될 때까지 입력한 문자를 계속 출력하는 프로그램을 작성해보자."
   ]
  },
  {
   "cell_type": "code",
   "execution_count": 10,
   "metadata": {},
   "outputs": [
    {
     "name": "stdout",
     "output_type": "stream",
     "text": [
      "a d f g e q w r\n",
      "a\n",
      "d\n",
      "f\n",
      "g\n",
      "e\n",
      "q\n"
     ]
    }
   ],
   "source": [
    "value = input().split()\n",
    "\n",
    "for i in value :\n",
    "    if(i == 'q'):\n",
    "        print(i)\n",
    "        break\n",
    "    else :\n",
    "        print(i)"
   ]
  }
 ],
 "metadata": {
  "kernelspec": {
   "display_name": "Python 3",
   "language": "python",
   "name": "python3"
  },
  "language_info": {
   "codemirror_mode": {
    "name": "ipython",
    "version": 3
   },
   "file_extension": ".py",
   "mimetype": "text/x-python",
   "name": "python",
   "nbconvert_exporter": "python",
   "pygments_lexer": "ipython3",
   "version": "3.7.9"
  }
 },
 "nbformat": 4,
 "nbformat_minor": 4
}
