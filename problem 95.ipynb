{
 "cells": [
  {
   "cell_type": "markdown",
   "metadata": {},
   "source": [
    "정보 선생님은 오늘도 이상한 출석을 부른다.\n",
    "\n",
    "영일이는 오늘도 다른 생각을 해보았다.\n",
    "출석 번호를 다 부르지는 않은 것 같은데... 가장 빠른 번호가 뭐였지?\n",
    "\n",
    "출석 번호를 n번 무작위로 불렀을 때, 가장 빠른 번호를 출력해 보자.\n",
    "\n",
    "\n",
    "참고\n",
    "배열에 순서대로 기록해 두면, 기록된 내용을 모두 검사해 가장 작은 값을 찾아내면 된다.\n",
    "\n",
    "그런데, 가장 작은 값은 어떻게 어떤 것과 비교하고 찾아야 할까?"
   ]
  },
  {
   "cell_type": "code",
   "execution_count": 3,
   "metadata": {},
   "outputs": [
    {
     "name": "stdout",
     "output_type": "stream",
     "text": [
      "5\n",
      "6 2 4 8 1\n",
      "1\n"
     ]
    }
   ],
   "source": [
    "count = int(input())\n",
    "numbers = input().split()\n",
    "\n",
    "array = []\n",
    "\n",
    "for i in range(count):\n",
    "    array.append(int(numbers[i]))\n",
    "    \n",
    "min_num = array[0]\n",
    "\n",
    "for k in range(1, count):\n",
    "    if min_num >= array[k]:\n",
    "        min_num = array[k]\n",
    "\n",
    "print(min_num)"
   ]
  }
 ],
 "metadata": {
  "kernelspec": {
   "display_name": "Python 3",
   "language": "python",
   "name": "python3"
  },
  "language_info": {
   "codemirror_mode": {
    "name": "ipython",
    "version": 3
   },
   "file_extension": ".py",
   "mimetype": "text/x-python",
   "name": "python",
   "nbconvert_exporter": "python",
   "pygments_lexer": "ipython3",
   "version": "3.7.9"
  }
 },
 "nbformat": 4,
 "nbformat_minor": 4
}
