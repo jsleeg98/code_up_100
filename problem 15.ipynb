{
 "cells": [
  {
   "cell_type": "code",
   "execution_count": 1,
   "metadata": {},
   "outputs": [
    {
     "data": {
      "text/plain": [
       "'\\n실수(float) 1개를 입력받아 저장한 후,\\n저장되어 있는 값을 소수점 셋 째 자리에서 반올림하여\\n소수점 이하 둘 째 자리까지 출력하시오.\\n'"
      ]
     },
     "execution_count": 1,
     "metadata": {},
     "output_type": "execute_result"
    }
   ],
   "source": [
    "\"\"\"\n",
    "실수(float) 1개를 입력받아 저장한 후,\n",
    "저장되어 있는 값을 소수점 셋 째 자리에서 반올림하여\n",
    "소수점 이하 둘 째 자리까지 출력하시오.\n",
    "\"\"\""
   ]
  },
  {
   "cell_type": "code",
   "execution_count": 11,
   "metadata": {},
   "outputs": [
    {
     "name": "stdout",
     "output_type": "stream",
     "text": [
      "1\n",
      "1.00\n"
     ]
    }
   ],
   "source": [
    "a = float(input());\n",
    "a = round(a,2);\n",
    "print('%.2f' %a);"
   ]
  }
 ],
 "metadata": {
  "kernelspec": {
   "display_name": "Python 3",
   "language": "python",
   "name": "python3"
  },
  "language_info": {
   "codemirror_mode": {
    "name": "ipython",
    "version": 3
   },
   "file_extension": ".py",
   "mimetype": "text/x-python",
   "name": "python",
   "nbconvert_exporter": "python",
   "pygments_lexer": "ipython3",
   "version": "3.7.6"
  }
 },
 "nbformat": 4,
 "nbformat_minor": 4
}
