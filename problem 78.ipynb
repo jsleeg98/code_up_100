{
 "cells": [
  {
   "cell_type": "markdown",
   "metadata": {},
   "source": [
    "정수(1 ~ 100) 1개를 입력받아 1부터 그 수까지 짝수의 합을 구해보자.\n",
    "\n",
    "\n",
    "참고\n",
    "while( ) {...}, do {...} while( );, for(...; ...; ...) {...} 등의 반복문은 형태만 다르\n",
    "고, 똑같은 성능을 발휘한다. 필요에 따라 편리한 것으로 골라 사용하면 된다.\n",
    "\n",
    "예시\n",
    "//아래의 예는 홀수일 경우만 더해 그 결과를 출력한다.\n",
    "int sum=0;\n",
    "int i, n;\n",
    "scanf(\"%d\", &n);\n",
    "for(i=1; i<=n; i++)\n",
    "{\n",
    "  if(i%2==1) sum=sum+i;"
   ]
  },
  {
   "cell_type": "code",
   "execution_count": 4,
   "metadata": {},
   "outputs": [
    {
     "name": "stdout",
     "output_type": "stream",
     "text": [
      "4\n",
      "6\n"
     ]
    }
   ],
   "source": [
    "value = int(input())\n",
    "\n",
    "sum = 0\n",
    "for i in range(value) :\n",
    "    if (i+1)%2 == 0 :\n",
    "       sum += i+1 \n",
    "    \n",
    "print(sum)"
   ]
  }
 ],
 "metadata": {
  "kernelspec": {
   "display_name": "Python 3",
   "language": "python",
   "name": "python3"
  },
  "language_info": {
   "codemirror_mode": {
    "name": "ipython",
    "version": 3
   },
   "file_extension": ".py",
   "mimetype": "text/x-python",
   "name": "python",
   "nbconvert_exporter": "python",
   "pygments_lexer": "ipython3",
   "version": "3.7.9"
  }
 },
 "nbformat": 4,
 "nbformat_minor": 4
}
