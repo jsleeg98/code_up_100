{
 "cells": [
  {
   "cell_type": "markdown",
   "metadata": {},
   "source": [
    "정보 선생님은 수업을 시작하기 전에 이상한 출석을 부른다.\n",
    "\n",
    "선생님은 출석부를 보고 번호를 부르는데,\n",
    "학생들의 얼굴과 이름을 빨리 익히기 위해 번호를 무작위(랜덤)으로 부른다.\n",
    "\n",
    "그리고 얼굴과 이름이 잘 기억되지 않는 학생들은 번호를 여러 번 불러\n",
    "이름과 얼굴을 빨리 익히려고 하는 것이다.\n",
    "\n",
    "출석 번호를 n번 무작위로 불렀을 때, 각 번호(1 ~ 23)가 불린 횟수를 각각 출력해보자.\n",
    "\n",
    "\n",
    "참고\n",
    "각 번호가 불린 횟수를 기록하고 출력하기 위해 변수 23개를 선언할 수도 있다.\n",
    "하지만 C언어에서는 같은 이름에 번호를 붙여 사용하는 배열(array)을 사용할 수 있다.\n",
    "이는 마치 아파트의 동 호수(예를 들어 a동 101호)와 같이 번호를 붙여 집을 구분하는 것과\n",
    "비슷하다.\n",
    "\n",
    "예를 들어 a동 101호를 다르게 표현하면 a[101] 과 같은 표현이 가능한 것이다.\n",
    "이렇게 번호를 붙여 데이터를 저장할 수 있는 변수인 배열을 사용하기 위해서는\n",
    "변수처럼, 사용하기 전에 선언해주어야 하는데 아래와 같은 방법으로 가능하다.\n",
    "\n",
    "예시\n",
    "int a[100]; //a[0] ~ a[99] 까지 정수를 저장할 수 있는 배열을 만들어라.\n",
    "for(i=0; i<100; i++)\n",
    "{\n",
    "  scanf(\"%d\", &a[i]); // 각각의 방에 순서대로 반복하면서 값을 입력해라.\n",
    "}\n",
    "\n",
    "배열을 사용하기 전에 배열에 들어있는 값을 초기화시키는 것이 좋은데,\n",
    "다음과 같은 여러 가지 방법이 있다.\n",
    "\n",
    "int a[24]={}; //0번부터 23번까지 모두 0으로 초기화된다.\n",
    "int a[24]={1,2,3}; //1,2,3 이 순서대로 들어가고 나머지는 모두 0으로 초기화된다.\n",
    "int a[3]={1,2,3}; //1,2,3 이 순서대로 저장된다.\n",
    "int a[3]={1,2,3,4}; //방을 3개 만들고 값을 4개를 집어넣어라? 오류 발생!\n",
    "\n",
    "\n",
    "문제 해결을 위한 참고 코드\n",
    "\n",
    "int n, i, t;\n",
    "int a[24]={};\n",
    "scanf(\"%d\", &n); //개수 입력받기\n",
    "for(i=1; i<=n; i++) //개수만큼 입력받기\n",
    "{\n",
    "  scanf(\"%d\", &t); //읽어서\n",
    "  a[t]=a[t]+1; //들어있던 값에 1만큼 더해 다시 저장. a[t]+=1 과 같다.\n",
    "}\n",
    "for(i=1; i<=23; i++)\n",
    "{\n",
    "  printf(\"%d \", a[i]); //1~23 번 배열에 저장되어있는 값 출력하기\n",
    "}\n"
   ]
  },
  {
   "cell_type": "code",
   "execution_count": 8,
   "metadata": {},
   "outputs": [
    {
     "name": "stdout",
     "output_type": "stream",
     "text": [
      "5\n",
      "1 2 3 4 5\n",
      "1 1 1 1 1 0 0 0 0 0 0 0 0 0 0 0 0 0 0 0 0 0 0 "
     ]
    }
   ],
   "source": [
    "import numpy as np\n",
    "\n",
    "count = int(input())\n",
    "numbers = input().split()\n",
    "result = np.zeros(23, dtype = 'i')\n",
    "\n",
    "for i in range(count):\n",
    "    index = int(numbers[i]) - 1\n",
    "    result[index] += 1\n",
    "    \n",
    "for j in range(23):\n",
    "    print(result[j], end = ' ')\n",
    "    \n"
   ]
  },
  {
   "cell_type": "code",
   "execution_count": 10,
   "metadata": {},
   "outputs": [
    {
     "name": "stdout",
     "output_type": "stream",
     "text": [
      "5\n",
      "1 2 3 4 5\n",
      "1 1 1 1 1 0 0 0 0 0 0 0 0 0 0 0 0 0 0 0 0 0 0 "
     ]
    }
   ],
   "source": [
    "# 정답\n",
    "\n",
    "cnt = int(input())\n",
    "nums = input().split()\n",
    "\n",
    "arr = []\n",
    "for i in range(23):\n",
    "    arr.append(0)\n",
    "\n",
    "for j in range(cnt):\n",
    "    arr[int(nums[j])-1] += 1\n",
    "\n",
    "for k in range(23):\n",
    "    print(arr[k], end = ' ')"
   ]
  }
 ],
 "metadata": {
  "kernelspec": {
   "display_name": "Python 3",
   "language": "python",
   "name": "python3"
  },
  "language_info": {
   "codemirror_mode": {
    "name": "ipython",
    "version": 3
   },
   "file_extension": ".py",
   "mimetype": "text/x-python",
   "name": "python",
   "nbconvert_exporter": "python",
   "pygments_lexer": "ipython3",
   "version": "3.7.9"
  }
 },
 "nbformat": 4,
 "nbformat_minor": 4
}
