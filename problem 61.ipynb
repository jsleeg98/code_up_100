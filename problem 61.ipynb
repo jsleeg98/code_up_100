{
 "cells": [
  {
   "cell_type": "markdown",
   "metadata": {},
   "source": [
    "입력된 정수 두 개를 비트단위로 or 연산한 후 그 결과를 정수로 출력해보자.\n",
    "비트단위(bitwise) 연산자 |(or, vertical bar, 버티컬바)를 사용하면 된다.\n",
    "\n",
    "\n",
    "** | 은 파이프(pipe)연산자라고도 불리는 경우가 있다.\n",
    "\n",
    "** 비트단위(bitwise) 연산자는,\n",
    "~(bitwise not), &(bitwise and), |(bitwise or), ^(bitwise xor),\n",
    "<<(bitwise left shift), >>(bitwise right shift)\n",
    "가 있다.\n",
    "\n",
    "예를 들어 3과 5가 입력되었을 때를 살펴보면\n",
    "3     : 00000000 00000000 00000000 00000011\n",
    "5     : 00000000 00000000 00000000 00000101\n",
    "3 | 5 : 00000000 00000000 00000000 00000111\n",
    "이 된다.\n",
    "\n",
    "비트단위 or 연산은 둘 중 하나라도 1인 자리를 1로 만들어주는 것과 같다.\n",
    "\n",
    "이러한 비트단위 연산은 빠른 계산이 필요한 그래픽처리에서도 효과적으로 사용된다."
   ]
  },
  {
   "cell_type": "code",
   "execution_count": 2,
   "metadata": {},
   "outputs": [
    {
     "name": "stdout",
     "output_type": "stream",
     "text": [
      "1 2\n",
      "3\n"
     ]
    }
   ],
   "source": [
    "a, b = input().split()\n",
    "a = int(a)\n",
    "b = int(b)\n",
    "print(a | b)"
   ]
  }
 ],
 "metadata": {
  "kernelspec": {
   "display_name": "Python 3",
   "language": "python",
   "name": "python3"
  },
  "language_info": {
   "codemirror_mode": {
    "name": "ipython",
    "version": 3
   },
   "file_extension": ".py",
   "mimetype": "text/x-python",
   "name": "python",
   "nbconvert_exporter": "python",
   "pygments_lexer": "ipython3",
   "version": "3.7.9"
  }
 },
 "nbformat": 4,
 "nbformat_minor": 4
}
