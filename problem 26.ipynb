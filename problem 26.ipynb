{
 "cells": [
  {
   "cell_type": "code",
   "execution_count": 1,
   "metadata": {},
   "outputs": [
    {
     "data": {
      "text/plain": [
       "'\\n입력되는 시:분:초 에서 분만 출력해보자.\\n\\n참고\\nint h, m, s;\\nscanf(\"%d:%d:%d\", &h, &m, &s);\\n\\n를 실행하면 콜론을 사이에 둔 형식으로 입력되어, h, m, s에 각각 정수값만 저장된다.\\n'"
      ]
     },
     "execution_count": 1,
     "metadata": {},
     "output_type": "execute_result"
    }
   ],
   "source": [
    "\"\"\"\n",
    "입력되는 시:분:초 에서 분만 출력해보자.\n",
    "\n",
    "참고\n",
    "int h, m, s;\n",
    "scanf(\"%d:%d:%d\", &h, &m, &s);\n",
    "\n",
    "를 실행하면 콜론을 사이에 둔 형식으로 입력되어, h, m, s에 각각 정수값만 저장된다.\n",
    "\"\"\""
   ]
  },
  {
   "cell_type": "code",
   "execution_count": 3,
   "metadata": {},
   "outputs": [
    {
     "name": "stdout",
     "output_type": "stream",
     "text": [
      "12:00:00\n",
      "0\n"
     ]
    }
   ],
   "source": [
    "a = input()\n",
    "h, m, s = a.split(\":\")\n",
    "print(int(m)) \n",
    "#시, 분, 시 는 정수값인 것을 고려하여 int로 정수형으로 자료형 변환이 필요하다."
   ]
  }
 ],
 "metadata": {
  "kernelspec": {
   "display_name": "Python 3",
   "language": "python",
   "name": "python3"
  },
  "language_info": {
   "codemirror_mode": {
    "name": "ipython",
    "version": 3
   },
   "file_extension": ".py",
   "mimetype": "text/x-python",
   "name": "python",
   "nbconvert_exporter": "python",
   "pygments_lexer": "ipython3",
   "version": "3.7.9"
  }
 },
 "nbformat": 4,
 "nbformat_minor": 4
}
