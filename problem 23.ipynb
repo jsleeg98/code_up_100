{
 "cells": [
  {
   "cell_type": "code",
   "execution_count": 2,
   "metadata": {},
   "outputs": [
    {
     "data": {
      "text/plain": [
       "'\\n1개의 단어를 입력받아 그대로 출력해보자.\\n'"
      ]
     },
     "execution_count": 2,
     "metadata": {},
     "output_type": "execute_result"
    }
   ],
   "source": [
    "\"\"\"\n",
    "실수 1개를 입력받아 정수 부분과 실수 부분으로 나누어 출력한다.\n",
    "\n",
    "** 여러 가지 방법들로 해결할 수 있다.\n",
    "\n",
    "만약 실수 부분이 0으로 시작하지 않는다면(예를 들어 1.000009)\n",
    "scanf(\"%d.%d\", &a, &b)도 하나의 방법이 될 수 있다.\n",
    "\"\"\"\n",
    "\"\"\"\n",
    "실수 1개가 입력된다.\n",
    "(단, 입력값은 절댓값이 10000을 넘지 않으며, 소수점 이하 자릿수는 최대 6자리까지이고\n",
    "0이 아닌 숫자로 시작한다.)\n",
    "\"\"\"\n",
    "\"\"\"\n",
    "첫 번째 줄에 정수 부분을, 두 번째 줄에 실수 부분을 출력한다.\n",
    "\"\"\""
   ]
  },
  {
   "cell_type": "code",
   "execution_count": 4,
   "metadata": {},
   "outputs": [
    {
     "name": "stdout",
     "output_type": "stream",
     "text": [
      "1.48921\n",
      "1\n",
      "48921\n"
     ]
    }
   ],
   "source": [
    "a = input();\n",
    "r,i = a.split(\".\");\n",
    "print(r + \"\\n\" + i);\n"
   ]
  }
 ],
 "metadata": {
  "kernelspec": {
   "display_name": "Python 3",
   "language": "python",
   "name": "python3"
  },
  "language_info": {
   "codemirror_mode": {
    "name": "ipython",
    "version": 3
   },
   "file_extension": ".py",
   "mimetype": "text/x-python",
   "name": "python",
   "nbconvert_exporter": "python",
   "pygments_lexer": "ipython3",
   "version": "3.7.6"
  }
 },
 "nbformat": 4,
 "nbformat_minor": 4
}
