{
 "cells": [
  {
   "cell_type": "code",
   "execution_count": 1,
   "metadata": {},
   "outputs": [
    {
     "data": {
      "text/plain": [
       "'\\n어떤 형식에 맞추어 시간이 입력될 때, 그대로 출력하는 연습을 해보자.\\n시(hour)와 분(minute)이 \":\" 으로 구분되어 입력된다.\\n입력받은 시간을 \"시:분\" 형식으로 출력한다.\\n'"
      ]
     },
     "execution_count": 1,
     "metadata": {},
     "output_type": "execute_result"
    }
   ],
   "source": [
    "\"\"\"\n",
    "어떤 형식에 맞추어 시간이 입력될 때, 그대로 출력하는 연습을 해보자.\n",
    "시(hour)와 분(minute)이 \":\" 으로 구분되어 입력된다.\n",
    "입력받은 시간을 \"시:분\" 형식으로 출력한다.\n",
    "\"\"\""
   ]
  },
  {
   "cell_type": "code",
   "execution_count": 2,
   "metadata": {},
   "outputs": [
    {
     "name": "stdout",
     "output_type": "stream",
     "text": [
      "13:22\n",
      "13:22\n"
     ]
    }
   ],
   "source": [
    "a = input();\n",
    "b,c = a.split(':');\n",
    "print(b+\":\"+c);"
   ]
  }
 ],
 "metadata": {
  "kernelspec": {
   "display_name": "Python 3",
   "language": "python",
   "name": "python3"
  },
  "language_info": {
   "codemirror_mode": {
    "name": "ipython",
    "version": 3
   },
   "file_extension": ".py",
   "mimetype": "text/x-python",
   "name": "python",
   "nbconvert_exporter": "python",
   "pygments_lexer": "ipython3",
   "version": "3.7.6"
  }
 },
 "nbformat": 4,
 "nbformat_minor": 4
}
