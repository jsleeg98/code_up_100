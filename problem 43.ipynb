{
 "cells": [
  {
   "cell_type": "markdown",
   "metadata": {},
   "source": [
    "정수 2개(a, b) 를 입력받아 a를 b로 나눈 나머지를 출력해보자.\n",
    "단, 0 <= a, b <= +2147483647, b는 0이 아니다.\n",
    "\n",
    "참고\n",
    "C언어에서 정수%정수 연산의 결과는 나눈 나머지로 계산된다.\n",
    "\n",
    "% 연산자(modulus, mod 연산) 수학자 가우스가 생각해낸 연산으로,\n",
    "어떤 정수를 다른 정수로 나누고 난 후 남는 나머지를 계산하는 연산이다.\n",
    "\n",
    "단, 음(-)이 아닌 정수에 대해서만 연산된다.\n",
    "\n",
    "정수 2개(a, b)가 공백을 두고 입력된다.\n",
    "단, 0 <= a, b <= +2147483647, b는 0이 아니다."
   ]
  },
  {
   "cell_type": "code",
   "execution_count": 1,
   "metadata": {},
   "outputs": [
    {
     "name": "stdout",
     "output_type": "stream",
     "text": [
      "7 2\n",
      "1\n"
     ]
    }
   ],
   "source": [
    "value = input()\n",
    "a, b = value.split(' ')\n",
    "a = int(a)\n",
    "b = int(b)\n",
    "result = int(a%b)\n",
    "print(result)"
   ]
  }
 ],
 "metadata": {
  "kernelspec": {
   "display_name": "Python 3",
   "language": "python",
   "name": "python3"
  },
  "language_info": {
   "codemirror_mode": {
    "name": "ipython",
    "version": 3
   },
   "file_extension": ".py",
   "mimetype": "text/x-python",
   "name": "python",
   "nbconvert_exporter": "python",
   "pygments_lexer": "ipython3",
   "version": "3.7.9"
  }
 },
 "nbformat": 4,
 "nbformat_minor": 4
}
