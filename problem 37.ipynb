{
 "cells": [
  {
   "cell_type": "markdown",
   "metadata": {},
   "source": [
    "10진 정수 1개를 입력받아 아스키 문자로 출력해보자.\n",
    "단, 0 ~ 255 범위의 정수만 입력된다."
   ]
  },
  {
   "cell_type": "code",
   "execution_count": 3,
   "metadata": {},
   "outputs": [
    {
     "name": "stdout",
     "output_type": "stream",
     "text": [
      "65\n",
      "A\n"
     ]
    }
   ],
   "source": [
    "value = int(input())\n",
    "#ord = 문자 -> 아스키 코드 값\n",
    "#chr = 아스키 코드 값 -> 문자\n",
    "print(chr(value))"
   ]
  }
 ],
 "metadata": {
  "kernelspec": {
   "display_name": "Python 3",
   "language": "python",
   "name": "python3"
  },
  "language_info": {
   "codemirror_mode": {
    "name": "ipython",
    "version": 3
   },
   "file_extension": ".py",
   "mimetype": "text/x-python",
   "name": "python",
   "nbconvert_exporter": "python",
   "pygments_lexer": "ipython3",
   "version": "3.7.9"
  }
 },
 "nbformat": 4,
 "nbformat_minor": 4
}
