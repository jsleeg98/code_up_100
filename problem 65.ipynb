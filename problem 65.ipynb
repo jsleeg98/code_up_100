{
 "cells": [
  {
   "cell_type": "markdown",
   "metadata": {},
   "source": [
    "세 정수 a, b, c가 입력되었을 때, 짝수만 출력해보자.\n",
    "\n",
    "\n",
    "참고\n",
    "if(조건)\n",
    "{ //조건이 참일 때에만 실행되는 구역(코드블록의 시작)\n",
    "  실행1;\n",
    "  실행2;\n",
    "  ...\n",
    "} //코드블록의 끝\n",
    "\n",
    "의 조건/선택 실행 구조는\n",
    "주어진 “조건”을 검사해 그 결과가 참인 경우에만 코드블록 안에 작성된 내용들을 순서대로 실행한다.\n",
    "\n",
    "\n",
    "예시\n",
    "if(a%2==0)\n",
    "{\n",
    "  printf(“%d”, a);\n",
    "}\n",
    "\n",
    "if(b%2==0)\n",
    "{\n",
    "  printf(“%d”, b);\n",
    "}\n",
    "\n",
    "if(c%2==0)\n",
    "{\n",
    "  printf(“%d”, c);\n",
    "}\n",
    "\n",
    "** a%2==0 은 a%2가 먼저 수행되고 그 결과를 0과 비교한 참/거짓 값을 계산한다.\n",
    "\n",
    "a%2==0의 의미는 a를 2로 나눈 나머지를 0과 비교한 결과 값(참/거짓)이다.\n",
    "따라서, if(a%2 == 0) 는 “a가 짝수라면?” 이라는 의미로 해석할 수 있다."
   ]
  },
  {
   "cell_type": "code",
   "execution_count": 7,
   "metadata": {},
   "outputs": [
    {
     "name": "stdout",
     "output_type": "stream",
     "text": [
      "4 5 6\n",
      "4\n",
      "6\n"
     ]
    }
   ],
   "source": [
    "a, b, c = input().split()\n",
    "a = int(a)\n",
    "b = int(b)\n",
    "c = int(c)\n",
    "if(a % 2 == 0):\n",
    "    print(a)\n",
    "if(b % 2 == 0):\n",
    "    print(b)\n",
    "if(c % 2 == 0):\n",
    "    print(c)"
   ]
  }
 ],
 "metadata": {
  "kernelspec": {
   "display_name": "Python 3",
   "language": "python",
   "name": "python3"
  },
  "language_info": {
   "codemirror_mode": {
    "name": "ipython",
    "version": 3
   },
   "file_extension": ".py",
   "mimetype": "text/x-python",
   "name": "python",
   "nbconvert_exporter": "python",
   "pygments_lexer": "ipython3",
   "version": "3.7.9"
  }
 },
 "nbformat": 4,
 "nbformat_minor": 4
}
