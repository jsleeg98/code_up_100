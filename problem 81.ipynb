{
 "cells": [
  {
   "cell_type": "markdown",
   "metadata": {},
   "source": [
    "1부터 n까지, 1부터 m까지 숫자가 적힌\n",
    "서로 다른 주사위 2개를 던졌을 때 나올 수 있는 모든 경우를 출력해보자.\n",
    "\n",
    "참고\n",
    "중첩의 원리...\n",
    "반복 실행 구조도 조건 실행 구조와 마찬가지로 중첩의 원리가 적용된다.\n",
    "반복 실행 구조를 중첩하면 원하는 반복 구조를 다양하게 만들어 낼 수 있다.\n",
    "\n",
    "예시\n",
    "int i, j;\n",
    "int n=3, m=6;\n",
    "for(i=1; i<=n; i++)\n",
    "{\n",
    "  for(j=1; j<=m; j++)\n",
    "  {\n",
    "    printf(\"%d %d \", i, j);\n",
    "  }\n",
    "}\n",
    "\n",
    "의 코드는\n",
    "바깥쪽의 i가 1부터 n까지로 바뀌는 각각의 동안에\n",
    "안쪽의 j가 1부터 m까지 변하며 출력된다.\n",
    "\n",
    "중첩 반복되는 코드블록의 내용이 논리적으로 한 개의 단위이기 때문에\n",
    "코드블록 기호를 생략하면 아래와 같이 작성할 수도 있다.\n",
    "\n",
    "int i, j;\n",
    "int n=3, m=6;\n",
    "for(i=1; i<=n; i++)\n",
    "  for(j=1; j<=m; j++)\n",
    "    printf(\"%d %d \", i, j);\n",
    "\n",
    "반복 실행구조를 사용할 때에는\n",
    "반복횟수를 기록해 두기 위해 i, j와 같은 변수를 선언해 사용해야 한다."
   ]
  },
  {
   "cell_type": "code",
   "execution_count": 2,
   "metadata": {},
   "outputs": [
    {
     "name": "stdout",
     "output_type": "stream",
     "text": [
      "1 3\n",
      "1 1\n",
      "1 2\n",
      "1 3\n"
     ]
    }
   ],
   "source": [
    "a, b = input().split()\n",
    "a = int(a)\n",
    "b = int(b)\n",
    "\n",
    "for i in range(1, a + 1) :\n",
    "    for j in range(1, b + 1):\n",
    "        print('%d %d' %(i, j))"
   ]
  }
 ],
 "metadata": {
  "kernelspec": {
   "display_name": "Python 3",
   "language": "python",
   "name": "python3"
  },
  "language_info": {
   "codemirror_mode": {
    "name": "ipython",
    "version": 3
   },
   "file_extension": ".py",
   "mimetype": "text/x-python",
   "name": "python",
   "nbconvert_exporter": "python",
   "pygments_lexer": "ipython3",
   "version": "3.7.9"
  }
 },
 "nbformat": 4,
 "nbformat_minor": 4
}
