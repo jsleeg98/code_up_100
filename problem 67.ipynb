{
 "cells": [
  {
   "cell_type": "markdown",
   "metadata": {},
   "source": [
    "정수 1개가 입력되었을 때, 음(minus)/양(plus)과 짝(even)/홀(odd)을 출력해보자.\n",
    "\n",
    "\n",
    "참고\n",
    "조건/선택 실행 구조의 안에 조건/선택 실행 구조를 다시 \"중첩\"할 수 있다.\n",
    "이는 \"중첩(nested)\"의 원리가 적용되는 내용으로 아래와 같은 구조가 가능하다.\n",
    "\n",
    "if(조건1)\n",
    "{\n",
    "  if(조건2) //조건문의 중첩\n",
    "  {\n",
    "    ...\n",
    "  }\n",
    "  else\n",
    "  {\n",
    "    ...\n",
    "  }\n",
    "}\n",
    "else\n",
    "{\n",
    "  if(조건2)\n",
    "  {\n",
    "    ...\n",
    "  }\n",
    "  else\n",
    "  {\n",
    "    ...\n",
    "  }\n",
    "}\n",
    "\n",
    "위와 같은 조건/선택 실행구조는 조건/선택 실행구조를 중첩해\n",
    "서로 다른 4가지(2가지*2가지)의 경우에 대해 다른 실행을 할 수 있도록 해준다.\n",
    "\n",
    "** 어떤 조건들이 맞았을 때에는 해당부분의 코드블록 내용만 실행되고,\n",
    "전체 조건/선택 실행구조를 빠져나간다. 즉, 다른 부분들은 실행되지 않는다.\n",
    "\n",
    "** 소스코드의 들여쓰기는 사람이 보고 이해하기 쉽도록 하는 것으로써\n",
    "들여쓰기나 줄바꿈을 하지 않더라도 동일하게 컴파일된다."
   ]
  },
  {
   "cell_type": "code",
   "execution_count": 2,
   "metadata": {},
   "outputs": [
    {
     "name": "stdout",
     "output_type": "stream",
     "text": [
      "-456\n",
      "minus\n",
      "even\n"
     ]
    }
   ],
   "source": [
    "a = int(input())\n",
    "if a > 0:\n",
    "    print('plus')\n",
    "else:\n",
    "    print('minus')\n",
    "if a % 2 == 0:\n",
    "    print('even')\n",
    "else:\n",
    "    print('odd')"
   ]
  }
 ],
 "metadata": {
  "kernelspec": {
   "display_name": "Python 3",
   "language": "python",
   "name": "python3"
  },
  "language_info": {
   "codemirror_mode": {
    "name": "ipython",
    "version": 3
   },
   "file_extension": ".py",
   "mimetype": "text/x-python",
   "name": "python",
   "nbconvert_exporter": "python",
   "pygments_lexer": "ipython3",
   "version": "3.7.9"
  }
 },
 "nbformat": 4,
 "nbformat_minor": 4
}
