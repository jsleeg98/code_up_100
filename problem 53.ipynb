{
 "cells": [
  {
   "cell_type": "markdown",
   "metadata": {},
   "source": [
    "1(true, 참) 또는 0(false, 거짓) 이 입력되었을 때\n",
    "반대로 출력하는 프로그램을 작성해보자.\n",
    "\n",
    "\n",
    "참고\n",
    "C언어에서 비교/관계 연산(==, !=, >, <, >=, <=)이 수행될 때,\n",
    "0은 거짓(false)으로 인식되고, 0이 아닌 모든 수는 참(true)으로 인식된다.\n",
    "\n",
    "참 또는 거짓의 논리값을 역(반대)으로 바꾸기 위해서는\n",
    "논리(logical)연산자 !를 사용할 수 있다.\n",
    "\n",
    "이러한 논리연산을 NOT 연산이라고도 부르고,\n",
    "프라임(기호 오른쪽에 따옴표) 이나 바(기호 위에 가로 막대)로 표시하고,\n",
    "집합 기호로는 c (여집합, complement)를 의미한다. 모두 같은 의미이다.\n",
    "\n",
    "참, 거짓의 논리값(boolean value)인 불 값을 다루어주는 논리연산자는\n",
    "!(not), &&(and), ||(or) 이 있다.\n",
    "\n",
    "** 불 대수(boolean algebra)는 수학자 불이 만들어낸 것으로\n",
    "참/거짓만 가지는 논리값과 그 연산을 다룬다.\n",
    "\n",
    "예시\n",
    "printf(\"%d\", !0); //거짓의 반대, 즉 참인 1로 계산됨\n",
    "printf(\"%d\", !1); //참의 반대, 즉 거짓인 0으로 계산됨\n",
    "printf(\"%d\", !999); //참의 반대, 즉 거짓인 0으로 계산됨\n",
    "\n",
    "어떤 변수 a에, !a 와 같은 논리 연산이 가능하다."
   ]
  },
  {
   "cell_type": "code",
   "execution_count": 15,
   "metadata": {},
   "outputs": [
    {
     "name": "stdout",
     "output_type": "stream",
     "text": [
      "0\n",
      "1\n"
     ]
    }
   ],
   "source": [
    "value = input()\n",
    "value = int(value)\n",
    "if value == 1:\n",
    "    print(0)\n",
    "else:\n",
    "    print(1)"
   ]
  }
 ],
 "metadata": {
  "kernelspec": {
   "display_name": "Python 3",
   "language": "python",
   "name": "python3"
  },
  "language_info": {
   "codemirror_mode": {
    "name": "ipython",
    "version": 3
   },
   "file_extension": ".py",
   "mimetype": "text/x-python",
   "name": "python",
   "nbconvert_exporter": "python",
   "pygments_lexer": "ipython3",
   "version": "3.7.9"
  }
 },
 "nbformat": 4,
 "nbformat_minor": 4
}
