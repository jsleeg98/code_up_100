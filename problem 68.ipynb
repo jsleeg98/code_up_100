{
 "cells": [
  {
   "cell_type": "markdown",
   "metadata": {},
   "source": [
    "점수(정수, 0 ~ 100)를 입력받아 평가를 출력해보자.\n",
    "\n",
    "\n",
    "평가 기준\n",
    "점수 범위 : 평가\n",
    " 90 ~ 100 : A\n",
    " 70 ~   89 : B\n",
    " 40 ~   69 : C\n",
    "   0 ~   39 : D\n",
    "로 평가되어야 한다.\n",
    "\n",
    "참고\n",
    "여러 조건들을 순서대로 비교하면서 처리하기 위해서 조건문을 중첩할 수 있다.\n",
    "만약, 순서대로 검사하고 실행하기 위해 아래와 같이 중첩 시킨다면,\n",
    "\n",
    "if(조건1)\n",
    "{\n",
    "  ...\n",
    "}\n",
    "else\n",
    "{\n",
    "  if(조건2)\n",
    "  {\n",
    "    ...\n",
    "  }\n",
    "  else\n",
    "  {\n",
    "    ...\n",
    "  }\n",
    "}\n",
    "\n",
    "중첩된 구조는 논리적으로 1단위이기 때문에 코드블록 기호를 생략하면\n",
    "아래와 같은 구조로 다시 표현될 수 있다.\n",
    "\n",
    "if(조건1) { ... ; }\n",
    "else if(조건2) { ... ; }\n",
    "else { ...; }\n",
    "\n",
    "이와 같이 조건을 계속 붙여나가면..\n",
    "\n",
    "if(조건1) { ... ; }\n",
    "else if(조건2) { ... ; }\n",
    "else if(조건3) { ... ; }\n",
    "else if(조건4) { ... ; }\n",
    "else if(조건5) { ... ; }\n",
    "else if(조건6) { ... ; }\n",
    "else if(조건...) { ... ; }\n",
    "else { ... ; }\n",
    "\n",
    "위와 같은 구조를 만들어 순서대로 조건을 검사할 수 있다.\n",
    "어떤 조건이 참이면, 그 부분의 내용을 실행하고 조건/선택 구조를 빠져나간다.\n",
    "\n",
    "이렇게 조건들을 순서대로 검사할 때에는\n",
    "중간에 범위가 빠지지 않았는지 꼼꼼하게 생각하고 조건들을 만드는 것이 중요하다.\n",
    "이는 마치 수학에서 빠진 범위 없이 부등식을 만드는 것과 유사하다."
   ]
  },
  {
   "cell_type": "code",
   "execution_count": 17,
   "metadata": {},
   "outputs": [
    {
     "name": "stdout",
     "output_type": "stream",
     "text": [
      "98\n",
      "A\n"
     ]
    }
   ],
   "source": [
    "a = int(input())\n",
    "\n",
    "if a >= 90:\n",
    "    print('A')\n",
    "    \n",
    "elif a >= 70:\n",
    "    print('B')\n",
    "    \n",
    "elif a >= 40:\n",
    "    print('C')\n",
    "    \n",
    "else:\n",
    "    print('D')"
   ]
  }
 ],
 "metadata": {
  "kernelspec": {
   "display_name": "Python 3",
   "language": "python",
   "name": "python3"
  },
  "language_info": {
   "codemirror_mode": {
    "name": "ipython",
    "version": 3
   },
   "file_extension": ".py",
   "mimetype": "text/x-python",
   "name": "python",
   "nbconvert_exporter": "python",
   "pygments_lexer": "ipython3",
   "version": "3.7.9"
  }
 },
 "nbformat": 4,
 "nbformat_minor": 4
}
