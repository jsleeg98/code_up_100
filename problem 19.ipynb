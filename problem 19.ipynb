{
 "cells": [
  {
   "cell_type": "code",
   "execution_count": 1,
   "metadata": {},
   "outputs": [
    {
     "data": {
      "text/plain": [
       "'\\n년, 월, 일을 입력받아 지정된 형식으로 출력하는 연습을 해보자.\\n연, 월, 일이 \".(닷)\"으로 구분되어 입력된다.\\n입력받은 연, 월, 일을 yyyy.mm.dd 형식으로 출력한다.\\n(%02d를 사용하면 2칸을 사용해 출력하는데, 한 자리 수인 경우 앞에 0을 붙여 출력한다.)\\n'"
      ]
     },
     "execution_count": 1,
     "metadata": {},
     "output_type": "execute_result"
    }
   ],
   "source": [
    "\"\"\"\n",
    "년, 월, 일을 입력받아 지정된 형식으로 출력하는 연습을 해보자.\n",
    "연, 월, 일이 \".(닷)\"으로 구분되어 입력된다.\n",
    "입력받은 연, 월, 일을 yyyy.mm.dd 형식으로 출력한다.\n",
    "(%02d를 사용하면 2칸을 사용해 출력하는데, 한 자리 수인 경우 앞에 0을 붙여 출력한다.)\n",
    "\"\"\""
   ]
  },
  {
   "cell_type": "code",
   "execution_count": null,
   "metadata": {},
   "outputs": [],
   "source": [
    "a = input();\n",
    "y,m,d = a.split(\".\");\n",
    "##정수 타입에서 원하는 만큼 0 채우기\n",
    "##m = format(m,'02'); \n",
    "##d = format(d,'02');\n",
    "\n",
    "##문자열 타입에서 원하는 만큼 0 채우기\n",
    "y = y.zfill(4);\n",
    "m = m.zfill(2);\n",
    "d = d.zfill(2);\n",
    "print(y + \".\" + m + \".\" + d);"
   ]
  }
 ],
 "metadata": {
  "kernelspec": {
   "display_name": "Python 3",
   "language": "python",
   "name": "python3"
  },
  "language_info": {
   "codemirror_mode": {
    "name": "ipython",
    "version": 3
   },
   "file_extension": ".py",
   "mimetype": "text/x-python",
   "name": "python",
   "nbconvert_exporter": "python",
   "pygments_lexer": "ipython3",
   "version": "3.7.6"
  }
 },
 "nbformat": 4,
 "nbformat_minor": 4
}
