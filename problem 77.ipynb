{
 "cells": [
  {
   "cell_type": "markdown",
   "metadata": {},
   "source": [
    "정수(0 ~ 100) 1개를 입력받아 0부터 그 수까지 순서대로 출력해보자.\n",
    "\n",
    "for((반복전 실행/준비 내용); (조건 검사 내용); (한번 실행한 후 처리할 작업))\n",
    "{ //코드블록\n",
    "  ...\n",
    "}\n",
    "반복 구조를 사용하자.\n",
    "\n",
    "참고\n",
    "for((반복전 실행/준비내용); (조건 검사 내용); (한번 실행한 후 처리할 작업))\n",
    "{ //코드블록\n",
    "  ...\n",
    "}\n",
    "구조는 while( ) {...}, do {...} while( ); 구조와 같이\n",
    "어떤 작업을 반복적으로 수행할 때 가장 일반적으로 많이 사용하는 구조이다.\n",
    "\n",
    "while( ) {...}, do {...} while( ); 과 다르게\n",
    "반복을 위한 초기화/준비, 조건검사, 반복 후 증감 등을 한 번에 작성할 수 있다.\n",
    "\n",
    "for( ... ) 를 사용할 때에는 반복 실행되는 과정에 대해 정확히 이해할 필요가 있는데.\n",
    "1. 반복 전 실행 수행(1번만 실행된다.)\n",
    "2. 조건검사\n",
    "3. 조건이 참이면 코드블록 실행\n",
    "4. 코드블록 실행 후 증감 또는 처리 : 한 번 반복 후 처리\n",
    "5. 조건검사\n",
    "6. 조건이 참이면 코드블록 실행\n",
    "...\n",
    "의 순서로 처리된다.\n",
    "\n",
    "예시\n",
    "int i, n;\n",
    "scanf(\"%d\", &n);\n",
    "for(i=0; i<=n; i++)\n",
    "{\n",
    "  printf(\"%d \");\n",
    "}\n",
    "printf(\"\\n\");\n",
    "\n",
    "** 일반적으로 반복 횟수를 카운트하면서 비교하기 위해 i 변수를 많이 사용한다.\n",
    "  i : index, iterator ?\n"
   ]
  },
  {
   "cell_type": "code",
   "execution_count": 2,
   "metadata": {},
   "outputs": [
    {
     "name": "stdout",
     "output_type": "stream",
     "text": [
      "5\n",
      "0\n",
      "1\n",
      "2\n",
      "3\n",
      "4\n",
      "5\n"
     ]
    }
   ],
   "source": [
    "value = int(input())\n",
    "i = 0\n",
    "while i <= value :\n",
    "    print(i)\n",
    "    i += 1"
   ]
  }
 ],
 "metadata": {
  "kernelspec": {
   "display_name": "Python 3",
   "language": "python",
   "name": "python3"
  },
  "language_info": {
   "codemirror_mode": {
    "name": "ipython",
    "version": 3
   },
   "file_extension": ".py",
   "mimetype": "text/x-python",
   "name": "python",
   "nbconvert_exporter": "python",
   "pygments_lexer": "ipython3",
   "version": "3.7.9"
  }
 },
 "nbformat": 4,
 "nbformat_minor": 4
}
