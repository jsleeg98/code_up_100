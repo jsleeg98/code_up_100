{
 "cells": [
  {
   "cell_type": "markdown",
   "metadata": {},
   "source": [
    "정보 선생님은 수업을 시작하기 전에 이상한 출석을 부른다.\n",
    "\n",
    "학생들의 얼굴과 이름을 빨리 익히기 위해 번호를 무작위(랜덤)으로 부르는데,\n",
    "영일이는 선생님이 부른 번호들을 기억하고 있다가 거꾸로 불러보는 것을 해보고 싶어졌다.\n",
    "\n",
    "출석 번호를 n번 무작위로 불렀을 때, 부른 번호를 거꾸로 출력해 보자.\n",
    "\n",
    "\n",
    "참고\n",
    "배열에 순서대로 기록해 두고, 기록된 내용을 거꾸로 출력하면 된다.\n",
    "\n",
    "예시\n",
    "int n, i;\n",
    "int a[1000]={};\n",
    "scanf(\"%d\", &n); //개수 입력 받기\n",
    "for(i=1; i<=n; i++) //개수 만큼 입력 받기\n",
    "  scanf(\"%d\", &a[i]); //읽어서 순서대로 배열에 넣는다.\n",
    "\n",
    "for(i=n; i>=1; i--)\n",
    "  printf(\"%d \", a[i]); //i 번 배열에 저장되어 있는 값 출력하기"
   ]
  },
  {
   "cell_type": "code",
   "execution_count": 2,
   "metadata": {},
   "outputs": [
    {
     "name": "stdout",
     "output_type": "stream",
     "text": [
      "5\n",
      "1 2 3 4 5\n",
      "5 4 3 2 1 "
     ]
    }
   ],
   "source": [
    "cnt = int(input())\n",
    "nums = input().split()\n",
    "\n",
    "arr = []\n",
    "\n",
    "for j in range(cnt):\n",
    "    arr.append(0)\n",
    "\n",
    "for i in range(cnt):\n",
    "    arr[cnt - 1 - i] = int(nums[i])\n",
    "\n",
    "for k in range(cnt):\n",
    "    print(arr[k], end = ' ')\n"
   ]
  },
  {
   "cell_type": "code",
   "execution_count": 4,
   "metadata": {},
   "outputs": [
    {
     "name": "stdout",
     "output_type": "stream",
     "text": [
      "5\n",
      "1 2 3 4 5\n",
      "5 4 3 2 1 "
     ]
    }
   ],
   "source": [
    "# 정답\n",
    "\n",
    "count = int(input())\n",
    "numbers = input().split()\n",
    "\n",
    "array = []\n",
    "\n",
    "for i in range(count):\n",
    "    array.append(int(numbers[i]))\n",
    "\n",
    "n = count - 1\n",
    "\n",
    "while n > -1 :\n",
    "    print(array[n], end = ' ')\n",
    "    n -= 1"
   ]
  }
 ],
 "metadata": {
  "kernelspec": {
   "display_name": "Python 3",
   "language": "python",
   "name": "python3"
  },
  "language_info": {
   "codemirror_mode": {
    "name": "ipython",
    "version": 3
   },
   "file_extension": ".py",
   "mimetype": "text/x-python",
   "name": "python",
   "nbconvert_exporter": "python",
   "pygments_lexer": "ipython3",
   "version": "3.7.9"
  }
 },
 "nbformat": 4,
 "nbformat_minor": 4
}
