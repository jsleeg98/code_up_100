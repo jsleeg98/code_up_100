{
 "cells": [
  {
   "cell_type": "markdown",
   "metadata": {},
   "source": [
    "영문자 1개를 입력받아 아스키 코드표의 10진수 값으로 출력해보자.\n",
    "\n",
    "참고\n",
    "아스키 코드는\n",
    "(ASCII, 미국표준코드, American Standard Code for Information Interchange)\n",
    "영문자, 특수 문자 등을 저장할 때 사용하는 표준 코드이다.\n",
    "\n",
    "컴퓨터로 저장되는 모든 데이터는 2진 정수화되어 저장되는데,\n",
    "영문자와 특수기호 등을 저장하는 방법으로 아스키코드가 기본적으로 사용된다.\n",
    "\n",
    "예를 들어 영문 대문자 \"A\"는 10진수 65를 의미하는 2진수 값으로 저장된다."
   ]
  },
  {
   "cell_type": "code",
   "execution_count": 8,
   "metadata": {},
   "outputs": [
    {
     "name": "stdout",
     "output_type": "stream",
     "text": [
      "a\n",
      "97\n"
     ]
    }
   ],
   "source": [
    "value = input()\n",
    "#ord = 문자 -> 아스키 코드 값\n",
    "#chr = 아스키 코드 값 -> 문자\n",
    "print(ord(value))\n"
   ]
  },
  {
   "cell_type": "code",
   "execution_count": null,
   "metadata": {},
   "outputs": [],
   "source": []
  }
 ],
 "metadata": {
  "kernelspec": {
   "display_name": "Python 3",
   "language": "python",
   "name": "python3"
  },
  "language_info": {
   "codemirror_mode": {
    "name": "ipython",
    "version": 3
   },
   "file_extension": ".py",
   "mimetype": "text/x-python",
   "name": "python",
   "nbconvert_exporter": "python",
   "pygments_lexer": "ipython3",
   "version": "3.7.9"
  }
 },
 "nbformat": 4,
 "nbformat_minor": 4
}
