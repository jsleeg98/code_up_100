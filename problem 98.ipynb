{
 "cells": [
  {
   "cell_type": "markdown",
   "metadata": {},
   "source": [
    "부모님과 함께 유원지에 놀러간 영일이는\n",
    "설탕과자(설탕을 녹여 물고기 등의 모양을 만든 것) 뽑기를 보게 되었다.\n",
    "\n",
    "길이가 다른 몇 개의 막대를 바둑판과 같은 격자판에 놓는데,\n",
    "\n",
    "막대에 있는 설탕과자 이름 아래에 있는 번호를 뽑으면 설탕과자를 가져가는 게임이었다.\n",
    "(잉어, 붕어, 용 등 여러 가지가 적혀있다.)"
   ]
  },
  {
   "cell_type": "code",
   "execution_count": 2,
   "metadata": {},
   "outputs": [
    {
     "name": "stdout",
     "output_type": "stream",
     "text": [
      "5 5\n",
      "3\n",
      "2 0 1 1\n",
      "3 1 2 3\n",
      "4 1 2 5\n",
      "1 1 0 0 0 \n",
      "0 0 1 0 1 \n",
      "0 0 1 0 1 \n",
      "0 0 1 0 1 \n",
      "0 0 0 0 1 \n"
     ]
    }
   ],
   "source": [
    "w, h = input().split()\n",
    "w = int(w)\n",
    "h = int(h)\n",
    "\n",
    "array = []\n",
    "for i in range(w):\n",
    "    array.append([])\n",
    "    for j in range(h):\n",
    "        array[i].append(int(0))\n",
    "\n",
    "count = int(input())\n",
    "\n",
    "for i in range(count):\n",
    "    l, d, x, y = input().split() #막대의 길이, 가로/세로, 행, 열 입력 받기\n",
    "    d = int(d)\n",
    "    l = int(l)\n",
    "    x = int(x)\n",
    "    y = int(y)\n",
    "    \n",
    "    if d == 0:\n",
    "        y_y = y\n",
    "        for k in range(l):\n",
    "            array[x - 1][y_y - 1] = 1\n",
    "            y_y += 1\n",
    "    else:\n",
    "        x_x = x\n",
    "        for k in range(l):\n",
    "            array[x_x - 1][y - 1] = 1\n",
    "            x_x += 1\n",
    "    \n",
    "for i in range(w):\n",
    "    for j in range(h):\n",
    "        print(array[i][j], end = ' ')\n",
    "    print()"
   ]
  }
 ],
 "metadata": {
  "kernelspec": {
   "display_name": "Python 3",
   "language": "python",
   "name": "python3"
  },
  "language_info": {
   "codemirror_mode": {
    "name": "ipython",
    "version": 3
   },
   "file_extension": ".py",
   "mimetype": "text/x-python",
   "name": "python",
   "nbconvert_exporter": "python",
   "pygments_lexer": "ipython3",
   "version": "3.7.9"
  }
 },
 "nbformat": 4,
 "nbformat_minor": 4
}
