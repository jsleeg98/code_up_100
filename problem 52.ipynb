{
 "cells": [
  {
   "cell_type": "markdown",
   "metadata": {},
   "source": [
    "두 정수(a, b)를 입력받아\n",
    "a와 b가 서로 다르면 1을, 그렇지 않으면 0을 출력하는 프로그램을 작성해보자.\n",
    "\n",
    "\n",
    "참고\n",
    "어떤 값을 비교하기 위해 비교/관계연산자(comparison/relational)를 사용할 수 있다.\n",
    "\n",
    "비교/관계연산자는 주어진 2개의 값을 비교하여\n",
    "그 결과가 참인 경우 참(true)을 나타내는 정수값 1로 계산하고,\n",
    "거짓인 경우 거짓(false)를 나타내는 정수값 0으로 계산한다.\n",
    "\n",
    "비교/관계연산자도 일반적인 사칙연산자처럼 주어진 두 수를 이용해 계산을 수행하고,\n",
    "그 결과를 1(참), 또는 0(거짓)으로 계산해 주는 연산자이다.\n",
    "\n",
    "비교/관계연산자는 >, <, >=, <=, ==(같다), !=(다르다) 6개가 있다.\n",
    "\n",
    "예시\n",
    "printf(\"%d\", 123!=123); //비교 연산자 !=의 계산 결과인 0(거짓)이 출력된다.\n"
   ]
  },
  {
   "cell_type": "code",
   "execution_count": 1,
   "metadata": {},
   "outputs": [
    {
     "name": "stdout",
     "output_type": "stream",
     "text": [
      "1 4\n",
      "1\n"
     ]
    }
   ],
   "source": [
    "value = input()\n",
    "a, b = value.split(' ')\n",
    "a = int(a)\n",
    "b = int(b)\n",
    "if a != b:\n",
    "    print(1)\n",
    "else:\n",
    "    print(0)"
   ]
  }
 ],
 "metadata": {
  "kernelspec": {
   "display_name": "Python 3",
   "language": "python",
   "name": "python3"
  },
  "language_info": {
   "codemirror_mode": {
    "name": "ipython",
    "version": 3
   },
   "file_extension": ".py",
   "mimetype": "text/x-python",
   "name": "python",
   "nbconvert_exporter": "python",
   "pygments_lexer": "ipython3",
   "version": "3.7.9"
  }
 },
 "nbformat": 4,
 "nbformat_minor": 4
}
