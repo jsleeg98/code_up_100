{
 "cells": [
  {
   "cell_type": "markdown",
   "metadata": {},
   "source": [
    "세 정수 a, b, c가 입력되었을 때, 짝(even)/홀(odd)을 출력해보자.\n",
    "\n",
    "\n",
    "참고\n",
    "if(조건)\n",
    "{ //코드블록1 시작\n",
    "  ... 실행...;\n",
    "  ...\n",
    "}\n",
    "else\n",
    "{ //코드블록2 시작\n",
    "  ... 다른실행...;\n",
    "  ...\n",
    "}\n",
    "의 조건/선택 실행구조는 주어진 “조건”을 검사해 참인 경우에는 코드블록1을 실행하고,\n",
    "거짓인 경우에는 코드블록2를 실행한다.\n",
    "\n",
    "예시\n",
    "if(a%2==0)\n",
    "{\n",
    "  printf(“%s”, “even”);\n",
    "}\n",
    "else\n",
    "{\n",
    "  printf(“%s”, “odd”);\n",
    "}\n",
    "\n",
    "** else는 if 없이 혼자 사용되지 않는다. 또한, else 다음에 조건이 없는 이유는?\n",
    "참이 아니면 거짓이고, 거짓이 아니면 참이기 때문에...\n",
    "즉 if문의 조건식의 판별 결과는 2가지 경우(참 또는 거짓)로 계산되는데,\n",
    "else 부분은 if문의 조건식의 결과가 거짓인 경우에 해당하기 때문이다.\n",
    "\n",
    "** 실행해야 할 명령들이 여러 개일 때 코드블록 기호 { }로 묶어 주는데,\n",
    "코드블록의 내용이 논리적으로 1개 단위라면 코드블록 기호를 생략할 수 있다.\n",
    "\n",
    "if(a%2==0) printf(\"%s\", \"even\");\n",
    "else printf(\"%s\", \"odd\");\n"
   ]
  },
  {
   "cell_type": "code",
   "execution_count": 3,
   "metadata": {},
   "outputs": [
    {
     "name": "stdout",
     "output_type": "stream",
     "text": [
      "1 2 3\n",
      "odd\n",
      "even\n",
      "odd\n"
     ]
    }
   ],
   "source": [
    "a, b, c = input().split()\n",
    "a = int(a)\n",
    "b = int(b)\n",
    "c = int(c)\n",
    "li = [a, b, c]\n",
    "for i in range(3):\n",
    "    if(li[i] % 2 == 0):\n",
    "        print('even')\n",
    "    else:\n",
    "        print('odd')"
   ]
  }
 ],
 "metadata": {
  "kernelspec": {
   "display_name": "Python 3",
   "language": "python",
   "name": "python3"
  },
  "language_info": {
   "codemirror_mode": {
    "name": "ipython",
    "version": 3
   },
   "file_extension": ".py",
   "mimetype": "text/x-python",
   "name": "python",
   "nbconvert_exporter": "python",
   "pygments_lexer": "ipython3",
   "version": "3.7.9"
  }
 },
 "nbformat": 4,
 "nbformat_minor": 4
}
