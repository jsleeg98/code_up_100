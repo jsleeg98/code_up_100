{
 "cells": [
  {
   "cell_type": "markdown",
   "metadata": {},
   "source": [
    "두 개의 참(1) 또는 거짓(0)이 입력될 때,\n",
    "모두 참일 때에만 참을 출력하는 프로그램을 작성해보자.\n",
    "\n",
    "\n",
    "참고\n",
    "논리연산자 && 는 주어진 2개의 논리값이 모두 참(1) 일 때에만 1(참)로 계산하고,\n",
    "그 외의 경우에는 0(거짓) 으로 계산한다.\n",
    "\n",
    "이러한 논리연산을 AND 연산이라고도 부르고, · 으로 표시하거나 생략하며,\n",
    "집합 기호로는 ∩(교집합, intersection)을 의미한다. 모두 같은 의미이다.\n",
    "\n",
    "참, 거짓의 논리값(boolean value)인 불 값을 다루어주는 논리연산자는\n",
    "!(not), &&(and), ||(or) 이 있다.\n",
    "\n",
    "** 불 대수(boolean algebra)는 수학자 불이 만들어낸 것으로\n",
    "참/거짓만 가지는 논리값과 그 연산을 다룬다.\n",
    "\n",
    "예시\n",
    "printf(\"%d\", 1&&1); //둘 다 참을 의미하므로 1로 계산되어 출력된다.\n"
   ]
  },
  {
   "cell_type": "code",
   "execution_count": 3,
   "metadata": {},
   "outputs": [
    {
     "name": "stdout",
     "output_type": "stream",
     "text": [
      "1 0\n",
      "0\n"
     ]
    }
   ],
   "source": [
    "value = input()\n",
    "a, b = value.split(' ')\n",
    "a = int(a)\n",
    "a = bool(a)\n",
    "b = int(b)\n",
    "b = bool(b)\n",
    "if a & b:\n",
    "    print(1)\n",
    "else: \n",
    "    print(0)"
   ]
  }
 ],
 "metadata": {
  "kernelspec": {
   "display_name": "Python 3",
   "language": "python",
   "name": "python3"
  },
  "language_info": {
   "codemirror_mode": {
    "name": "ipython",
    "version": 3
   },
   "file_extension": ".py",
   "mimetype": "text/x-python",
   "name": "python",
   "nbconvert_exporter": "python",
   "pygments_lexer": "ipython3",
   "version": "3.7.9"
  }
 },
 "nbformat": 4,
 "nbformat_minor": 4
}
