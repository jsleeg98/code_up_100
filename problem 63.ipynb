{
 "cells": [
  {
   "cell_type": "markdown",
   "metadata": {},
   "source": [
    "입력된 두 정수 a, b 중 큰 값을 출력하는 프로그램을 작성해보자.\n",
    "단, 조건문을 사용하지 않고 3항 연산자 ? 를 사용한다.\n",
    "\n",
    "참고\n",
    "3개의 요소로 이루어지는 3항(ternary) 연산자는\n",
    "\"조건식 ? (참일 때의 값) : (거짓일 때의 값)” 의 형태로 사용하는 연산자이다.\n",
    "- 조건식의 계산 결과가 참인 경우에는 ':' 왼쪽의 값 또는 식으로 바뀌고,\n",
    "- 거짓인 경우에는 ':' 오른쪽의 값 또는 식으로 바뀐다.\n",
    "\n",
    "예를 들어\n",
    "123 > 456 ? 0 : 1\n",
    "과 같은 표현식은 123 > 456 의 비교연산 결과가 거짓이므로 1이 된다.\n",
    "\n",
    "예시\n",
    "printf(\"%d\", a>b ? a:b); //두 값 중 큰 값이 출력된다.\n",
    "\n",
    "예시 코드는 a>b 의 결과가 참(1)이면 (a>b ? a:b)의 결과는 a가 되고,\n",
    "거짓(0)이면 (a>b ? a:b)의 결과는 b가 된다."
   ]
  },
  {
   "cell_type": "code",
   "execution_count": 4,
   "metadata": {},
   "outputs": [
    {
     "name": "stdout",
     "output_type": "stream",
     "text": [
      "5 3\n",
      "5\n"
     ]
    }
   ],
   "source": [
    "a, b = input().split()\n",
    "a = int(a)\n",
    "b = int(b)\n",
    "\n",
    "#파이썬의 삼항연산자는 value1 if value1 비교연산자 value2 else value2\n",
    "c = (a if a > b else b)\n",
    "print('%d' %c)"
   ]
  }
 ],
 "metadata": {
  "kernelspec": {
   "display_name": "Python 3",
   "language": "python",
   "name": "python3"
  },
  "language_info": {
   "codemirror_mode": {
    "name": "ipython",
    "version": 3
   },
   "file_extension": ".py",
   "mimetype": "text/x-python",
   "name": "python",
   "nbconvert_exporter": "python",
   "pygments_lexer": "ipython3",
   "version": "3.7.9"
  }
 },
 "nbformat": 4,
 "nbformat_minor": 4
}
