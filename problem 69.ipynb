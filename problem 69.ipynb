{
 "cells": [
  {
   "cell_type": "markdown",
   "metadata": {},
   "source": [
    "평가를 문자(A, B, C, D, ...)로 입력받아 내용을 다르게 출력해보자.\n",
    "\n",
    "평가 내용\n",
    "평가 : 내용\n",
    "A : best!!!\n",
    "B : good!!\n",
    "C : run!\n",
    "D : slowly~\n",
    "나머지 문자들 : what?\n",
    "\n",
    "\n",
    "참고\n",
    "조건/선택문을 복합적으로 구성해 출력할 수도 있지만,\n",
    "\n",
    "switch(정수값)\n",
    "{\n",
    "  case 'A': //문자 'A'가 정수값 65('A'의 아스키 값)로 저장되기 때문에 가능하다.\n",
    "    ...;\n",
    "    break;\n",
    "  case 'B':\n",
    "    ...;\n",
    "    break;\n",
    "  case 'C':\n",
    "    ...;\n",
    "    break;\n",
    "  default:\n",
    "    ...;\n",
    "}\n",
    "\n",
    "위와 같은 switch( ) ... case... break; 제어문을 사용할 수 있다.\n",
    "\n",
    "** break; 를 사용하지 않으면 이후의 명령들도 계속 실행된다.\n",
    "default: 는 제시된 case 를 제외한 나머지 모든 경우에 실행된다.\n",
    "switch( ) 에 주어지는 값은 “정수\"값만 가능하며,\n",
    "문자도 아스키코드 정수값이기 때문에 가능하다.\n"
   ]
  },
  {
   "cell_type": "code",
   "execution_count": 4,
   "metadata": {},
   "outputs": [
    {
     "name": "stdout",
     "output_type": "stream",
     "text": [
      "D\n",
      "slowly~\n"
     ]
    }
   ],
   "source": [
    "a = input()\n",
    "if a == 'A':\n",
    "    print('best!!!')\n",
    "elif a == 'B':\n",
    "    print('good!!')\n",
    "elif a == 'C':\n",
    "    print('run!')\n",
    "elif a == 'D':\n",
    "    print('slowly~')\n",
    "else:\n",
    "    print('what?')"
   ]
  }
 ],
 "metadata": {
  "kernelspec": {
   "display_name": "Python 3",
   "language": "python",
   "name": "python3"
  },
  "language_info": {
   "codemirror_mode": {
    "name": "ipython",
    "version": 3
   },
   "file_extension": ".py",
   "mimetype": "text/x-python",
   "name": "python",
   "nbconvert_exporter": "python",
   "pygments_lexer": "ipython3",
   "version": "3.7.9"
  }
 },
 "nbformat": 4,
 "nbformat_minor": 4
}
