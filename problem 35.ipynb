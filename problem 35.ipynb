{
 "cells": [
  {
   "cell_type": "code",
   "execution_count": 2,
   "metadata": {},
   "outputs": [
    {
     "data": {
      "text/plain": [
       "'\\n16진수로 입력된 정수 1개를 8진수로 바꾸어 출력해보자.\\n\\n참고\\n%x(영문자 소문자) 나 %X(영문자 대문자)로 입력 받으면\\n16진수로 인식시켜 저장시킬 수 있다. %o로 출력하면 8진수로 출력된다.\\n\\nC언어에서 소스 코드 작성시 0으로 시작하는 수는 8진수로 인식된다.\\n또한 소스코드 내에서 //로 시작하면 1줄 설명을 넣을 수 있다.\\n여러 줄을 설명(주석) 을 넣을 경우 /* 와 */ 사이에 작성하면 된다.\\n\\n예시\\nint n;\\nscanf(\"%x\", &n); //소문자로 16진수 입력\\nprintf(\"%o\", n);\\n'"
      ]
     },
     "execution_count": 2,
     "metadata": {},
     "output_type": "execute_result"
    }
   ],
   "source": [
    "\"\"\"\n",
    "16진수로 입력된 정수 1개를 8진수로 바꾸어 출력해보자.\n",
    "\n",
    "참고\n",
    "%x(영문자 소문자) 나 %X(영문자 대문자)로 입력 받으면\n",
    "16진수로 인식시켜 저장시킬 수 있다. %o로 출력하면 8진수로 출력된다.\n",
    "\n",
    "C언어에서 소스 코드 작성시 0으로 시작하는 수는 8진수로 인식된다.\n",
    "또한 소스코드 내에서 //로 시작하면 1줄 설명을 넣을 수 있다.\n",
    "여러 줄을 설명(주석) 을 넣을 경우 /* 와 */ 사이에 작성하면 된다.\n",
    "\n",
    "예시\n",
    "int n;\n",
    "scanf(\"%x\", &n); //소문자로 16진수 입력\n",
    "printf(\"%o\", n);\n",
    "\"\"\""
   ]
  },
  {
   "cell_type": "code",
   "execution_count": 6,
   "metadata": {},
   "outputs": [
    {
     "name": "stdout",
     "output_type": "stream",
     "text": [
      "f\n",
      "17\n"
     ]
    }
   ],
   "source": [
    "value = input()\n",
    "dec_value = int(value, 16)\n",
    "oct_value = format(dec_value, 'o')\n",
    "print(oct_value)"
   ]
  },
  {
   "cell_type": "code",
   "execution_count": null,
   "metadata": {},
   "outputs": [],
   "source": []
  }
 ],
 "metadata": {
  "kernelspec": {
   "display_name": "Python 3",
   "language": "python",
   "name": "python3"
  },
  "language_info": {
   "codemirror_mode": {
    "name": "ipython",
    "version": 3
   },
   "file_extension": ".py",
   "mimetype": "text/x-python",
   "name": "python",
   "nbconvert_exporter": "python",
   "pygments_lexer": "ipython3",
   "version": "3.7.9"
  }
 },
 "nbformat": 4,
 "nbformat_minor": 4
}
