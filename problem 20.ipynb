{
 "cells": [
  {
   "cell_type": "code",
   "execution_count": 1,
   "metadata": {},
   "outputs": [
    {
     "data": {
      "text/plain": [
       "\"\\n'-'를 제외한 주민번호 13자리를 모두 붙여 출력한다.\\n\""
      ]
     },
     "execution_count": 1,
     "metadata": {},
     "output_type": "execute_result"
    }
   ],
   "source": [
    "\"\"\"\n",
    "주민번호는 다음과 같이 구성된다.\n",
    "\n",
    "XXXXXX-XXXXXXX\n",
    "\n",
    "앞의 6자리는 생년월일(yymmdd)이고 뒤 7자리는 성별, 지역, 오류검출코드이다.\n",
    "주민번호를 입력받아 형태를 바꿔 출력해보자.\n",
    "\"\"\"\n",
    "\"\"\"\n",
    "주민번호 앞 6자리와 뒷 7자리가 '-'로 구분되어 입력된다.\n",
    "(입력값은 가상의 주민번호이다.)\n",
    "ex)110011-0000000\n",
    "\"\"\"\n",
    "\"\"\"\n",
    "'-'를 제외한 주민번호 13자리를 모두 붙여 출력한다.\n",
    "\"\"\""
   ]
  },
  {
   "cell_type": "code",
   "execution_count": 3,
   "metadata": {},
   "outputs": [
    {
     "name": "stdout",
     "output_type": "stream",
     "text": [
      "123456-4567891\n",
      "1234564567891\n"
     ]
    }
   ],
   "source": [
    "a = input();\n",
    "b,c = a.split(\"-\");\n",
    "print(b+c);"
   ]
  }
 ],
 "metadata": {
  "kernelspec": {
   "display_name": "Python 3",
   "language": "python",
   "name": "python3"
  },
  "language_info": {
   "codemirror_mode": {
    "name": "ipython",
    "version": 3
   },
   "file_extension": ".py",
   "mimetype": "text/x-python",
   "name": "python",
   "nbconvert_exporter": "python",
   "pygments_lexer": "ipython3",
   "version": "3.7.6"
  }
 },
 "nbformat": 4,
 "nbformat_minor": 4
}
