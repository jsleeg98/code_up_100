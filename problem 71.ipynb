{
 "cells": [
  {
   "cell_type": "markdown",
   "metadata": {},
   "source": [
    " 정수가 순서대로 입력된다.\n",
    "-2147483648 ~ +2147483647, 단 개수는 알 수 없다.\n",
    "\n",
    "0이 아니면 입력된 정수를 출력하고, 0이 입력되면 출력을 중단해보자.\n",
    "while( ), for( ), do~while( ) 등의 반복문을 사용할 수 없다.\n",
    "\n",
    "\n",
    "참고\n",
    "goto 명령문을 사용하면 간단한 반복 실행을 만들 수 있다.\n",
    "반복 실행 부분을 빠져나오기 위해(즉 무한 반복을 방지하기 위해)\n",
    "반복 실행 되는 도중에 조건을 검사해야 한다.\n",
    "\n",
    "goto 이름:\n",
    "이 명령은 이름: 이 작성된 곳으로 프로그램의 실행 흐름을 바꾸어 준다.\n",
    "\n",
    "\"이름:\" 과 같이 콜론(:)이 붙어있는 부분을 이름표(label, 레이블)라고 한다.\n",
    "레이블은 특별한 선언 없이 사용할 수 있으며 언더바(_)나 영문자로 시작하면 된다.\n",
    "레이블은 한 단어처럼 공백없이 모두 붙여 써야 한다.\n",
    "\n",
    "switch( ) ... case ... : ... break; 에서\n",
    "case ... : 도 일종의 레이블이라고 생각할 수 있다.\n",
    "\n",
    "goto 레이블:\n",
    "명령을 사용하면 반복되는 부분을 여러 개 자유롭게 만들 수 있다.\n",
    "\n",
    "goto 명령은 반복 실행을 만들어낼 수 있는 가장 간단한 명령이지만,\n",
    "복잡하게(스파게티 코드) 사용하는 경우, 이해가 어렵고 오류가 생기기 쉽다.\n",
    "\n",
    "\n",
    "예시\n",
    "  int n;\n",
    "reload: //레이블은 콜론(:)으로 끝내고, 일반적으로 들여쓰기를 하지 않는다.\n",
    "  scanf(\"%d\", &n);\n",
    "  printf(\"%d\", n);\n",
    "  if(n!=0) goto reload; //reload라고 적혀있는 레이블로 실행 이동\n"
   ]
  },
  {
   "cell_type": "code",
   "execution_count": 11,
   "metadata": {},
   "outputs": [
    {
     "name": "stdout",
     "output_type": "stream",
     "text": [
      "1 2 3 4 0 5\n",
      "1\n",
      "2\n",
      "3\n",
      "4\n"
     ]
    }
   ],
   "source": [
    "# 파이썬은 goto 구문 없음\n",
    "values = input().split()\n",
    "for i in range(len(values)):\n",
    "    values[i] = int(values[i])\n",
    "\n",
    "for i in range(len(values)):\n",
    "    if(values[i] != 0):\n",
    "        print(values[i])\n",
    "    else:\n",
    "        break"
   ]
  },
  {
   "cell_type": "code",
   "execution_count": 12,
   "metadata": {},
   "outputs": [
    {
     "name": "stdout",
     "output_type": "stream",
     "text": [
      "1 2 4 5 0 5 6\n",
      "1\n",
      "2\n",
      "4\n",
      "5\n"
     ]
    }
   ],
   "source": [
    "# 해답\n",
    "a = input().split()\n",
    "\n",
    "for x in a :\n",
    "    if int(x) == 0 :\n",
    "        break\n",
    "    else :\n",
    "        print(int(x))"
   ]
  }
 ],
 "metadata": {
  "kernelspec": {
   "display_name": "Python 3",
   "language": "python",
   "name": "python3"
  },
  "language_info": {
   "codemirror_mode": {
    "name": "ipython",
    "version": 3
   },
   "file_extension": ".py",
   "mimetype": "text/x-python",
   "name": "python",
   "nbconvert_exporter": "python",
   "pygments_lexer": "ipython3",
   "version": "3.7.9"
  }
 },
 "nbformat": 4,
 "nbformat_minor": 4
}
