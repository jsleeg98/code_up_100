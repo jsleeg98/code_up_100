{
 "cells": [
  {
   "cell_type": "code",
   "execution_count": 1,
   "metadata": {},
   "outputs": [
    {
     "data": {
      "text/plain": [
       "'\\n8진수로 입력된 정수 1개를 10진수로 바꾸어 출력해보자.\\n\\n참고\\n%o로 입력받으면 8진수로 인식시켜 저장시킬 수 있다.\\n%d로 출력하면 10진수로 출력된다.\\n\\n예시\\nint n;\\nscanf(\"%o\", &n);\\nprintf(\"%d\", n);\\n(C언어에서 소스 코드 작성 시 0으로 시작하는 수는 8진수로 인식된다. int a = 013; // 10진수 11과 같은 값)\\n'"
      ]
     },
     "execution_count": 1,
     "metadata": {},
     "output_type": "execute_result"
    }
   ],
   "source": [
    "\"\"\"\n",
    "8진수로 입력된 정수 1개를 10진수로 바꾸어 출력해보자.\n",
    "\n",
    "참고\n",
    "%o로 입력받으면 8진수로 인식시켜 저장시킬 수 있다.\n",
    "%d로 출력하면 10진수로 출력된다.\n",
    "\n",
    "예시\n",
    "int n;\n",
    "scanf(\"%o\", &n);\n",
    "printf(\"%d\", n);\n",
    "(C언어에서 소스 코드 작성 시 0으로 시작하는 수는 8진수로 인식된다. int a = 013; // 10진수 11과 같은 값)\n",
    "\"\"\""
   ]
  },
  {
   "cell_type": "code",
   "execution_count": 20,
   "metadata": {},
   "outputs": [
    {
     "name": "stdout",
     "output_type": "stream",
     "text": [
      "10\n",
      "8\n"
     ]
    }
   ],
   "source": [
    "value = input()\n",
    "dec_val = int(value, 8)\n",
    "print(dec_val)"
   ]
  },
  {
   "cell_type": "code",
   "execution_count": null,
   "metadata": {},
   "outputs": [],
   "source": []
  }
 ],
 "metadata": {
  "kernelspec": {
   "display_name": "Python 3",
   "language": "python",
   "name": "python3"
  },
  "language_info": {
   "codemirror_mode": {
    "name": "ipython",
    "version": 3
   },
   "file_extension": ".py",
   "mimetype": "text/x-python",
   "name": "python",
   "nbconvert_exporter": "python",
   "pygments_lexer": "ipython3",
   "version": "3.7.9"
  }
 },
 "nbformat": 4,
 "nbformat_minor": 4
}
