{
 "cells": [
  {
   "cell_type": "markdown",
   "metadata": {},
   "source": [
    "영문자(a ~ z) 1개가 입력되었을 때 그 문자까지의 알파벳을 순서대로 출력해보자.\n",
    "\n",
    "\n",
    "참고\n",
    "do\n",
    "{ //코드블록\n",
    "  ...\n",
    "}while(조건); //do~while( ) ; 구조는 반드시 마지막에 세미콜론(;)을 붙여야 한다.\n",
    "구조를 사용하자.\n",
    "\n",
    "do\n",
    "{ //코드블록\n",
    "  ...\n",
    "}while(조건);\n",
    "구조는 while( ) { ... } 과 유사한 반복 실행 구조를 만들 수 있는데\n",
    "다른 점은 무조건 한 번은 실행된다는 것이다. 마지막에 세미콜론을 반드시 붙여야 한다.\n",
    "\n",
    "예시\n",
    "char x, t='a';\n",
    "scanf(\"%c\", &x);\n",
    "do\n",
    "{\n",
    "  printf(\"%c \", t);\n",
    "  t+=1; //t+=1; 는 t=t+1과 같은 의미이다.\n",
    "}while(t<'z'+1); //의미 : t의 값이 'z'보다 작은 동안 반복된다.\n",
    "\n",
    "** 복합 대입 연산자에 대해...\n",
    "컴퓨터의 세상에서 반복되는 것은 다시 쓰기 귀찮다.\n",
    "즉, 어딘가에 정의가 되어있다면 재사용하던가, 아니면 보다 간단히 쓰고 싶어한다.\n",
    "\n",
    "복합 대입 연산자는 대입 연산자를 함께 사용해 보다 간단히 표현하는 방법이다.\n",
    "예를 들어 어떤 연산자 X와 대입 연산자를 합쳐 \"X=\"라고 표현하면,\n",
    "이는 X 연산 후 대입하라는 의미를 간단히 나타내는 것이다.\n",
    "\n",
    "+=, -=, *=, /=, %= ... 등의 형태들이 모두 가능하며 의미는 아래와 같다.\n",
    "\n",
    "예를 들어\n",
    "\n",
    "n = n + 3;\n",
    "은\n",
    "n += 3; 으로 간단히 표현할 수 있다.\n",
    "\n",
    "n = n << 1;\n",
    "는\n",
    "n <<= 1; 로 간단히 표현할 수 있다.\n",
    "\n",
    "아래는 서로 다른 형태이지만 같은 기능을 하는 코드들이다.\n",
    "n++;\n",
    "n=n+1;\n",
    "n+=1;\n"
   ]
  },
  {
   "cell_type": "code",
   "execution_count": 10,
   "metadata": {},
   "outputs": [
    {
     "name": "stdout",
     "output_type": "stream",
     "text": [
      "a\n",
      "a\n"
     ]
    }
   ],
   "source": [
    "value = input()\n",
    "\n",
    "x = ord(value) - ord('a')\n",
    "\n",
    "for i in range(x+1) :\n",
    "    print((chr(ord('a')+i)))\n",
    "    "
   ]
  },
  {
   "cell_type": "code",
   "execution_count": null,
   "metadata": {},
   "outputs": [],
   "source": []
  }
 ],
 "metadata": {
  "kernelspec": {
   "display_name": "Python 3",
   "language": "python",
   "name": "python3"
  },
  "language_info": {
   "codemirror_mode": {
    "name": "ipython",
    "version": 3
   },
   "file_extension": ".py",
   "mimetype": "text/x-python",
   "name": "python",
   "nbconvert_exporter": "python",
   "pygments_lexer": "ipython3",
   "version": "3.7.9"
  }
 },
 "nbformat": 4,
 "nbformat_minor": 4
}
