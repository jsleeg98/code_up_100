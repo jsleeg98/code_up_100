{
 "cells": [
  {
   "cell_type": "code",
   "execution_count": 2,
   "metadata": {},
   "outputs": [
    {
     "data": {
      "text/plain": [
       "'\\n다섯 자리의 정수 1개를 입력받아 각 자리별로 나누어 출력한다.\\n'"
      ]
     },
     "execution_count": 2,
     "metadata": {},
     "output_type": "execute_result"
    }
   ],
   "source": [
    "\"\"\"\n",
    "다섯 자리의 정수 1개를 입력받아 각 자리별로 나누어 출력한다.\n",
    "\"\"\""
   ]
  },
  {
   "cell_type": "code",
   "execution_count": null,
   "metadata": {},
   "outputs": [],
   "source": []
  },
  {
   "cell_type": "code",
   "execution_count": 29,
   "metadata": {},
   "outputs": [
    {
     "name": "stdout",
     "output_type": "stream",
     "text": [
      "45678\n",
      "[40000]\n",
      "[5000]\n",
      "[600]\n",
      "[70]\n",
      "[8]\n"
     ]
    }
   ],
   "source": [
    "a = input()\n",
    "i = 0\n",
    "for num in a:\n",
    "    num = int(num) * (10**(4-i))\n",
    "    i = i + 1;\n",
    "    print(\"[%d]\" %num)"
   ]
  }
 ],
 "metadata": {
  "kernelspec": {
   "display_name": "Python 3",
   "language": "python",
   "name": "python3"
  },
  "language_info": {
   "codemirror_mode": {
    "name": "ipython",
    "version": 3
   },
   "file_extension": ".py",
   "mimetype": "text/x-python",
   "name": "python",
   "nbconvert_exporter": "python",
   "pygments_lexer": "ipython3",
   "version": "3.7.6"
  }
 },
 "nbformat": 4,
 "nbformat_minor": 4
}
