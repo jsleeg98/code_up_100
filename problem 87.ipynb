{
 "cells": [
  {
   "cell_type": "markdown",
   "metadata": {},
   "source": [
    "1, 2, 3 ... 을 순서대로 계속 더해나갈 때,\n",
    "그 합이 입력한 정수보다 작을 동안만 계속 더하는 프로그램을 작성해보자.\n",
    "\n",
    "즉, 1부터 n까지 정수를 계속 더한다고 할 때,\n",
    "어디까지 더해야 입력한 수보다 같거나 커지는지 알아보고자 하는 문제이다.\n",
    "\n",
    "하지만, 이번에는 그 때의 합을 출력해야 한다.\n",
    "\n",
    "예를 들어 57을 입력하면\n",
    "1+2+3+...+8+9+10=55에 다시 11을 더해 66이 될 때,\n",
    "그 값 66이 출력되어야 한다.\n",
    "\n",
    "\n",
    "참고\n",
    "조건문이나 반복문의 코드블록 안에서 break;가 실행되면\n",
    "가장 가까운 반복 코드블록 구역의 밖으로 빠져나간다.\n",
    "\n",
    "\n",
    "예시\n",
    "int n, i, s=0;\n",
    "scanf(\"%d\", &n);\n",
    "for(i=1; ; i++) //for 반목문에서 가운데의 조건이 빠진 경우 무한 반복된다.\n",
    "{\n",
    "  s+=i;\n",
    "  if(s>=n)\n",
    "    break; //참이면, 가장 가까운 반복 코드블록의 밖으로 빠져나간다.\n",
    "} //break; 가 실행되면 반복을 중단하고 여기로 빠져 나온다.\n",
    "printf(\"%d\", s);\n",
    "\n",
    "무한 반복이 되는 코드는\n",
    "while(1) {...}, do {...}while(1); 등도 가능하다.\n",
    "0이 아니면 모두 참(true)으로 인식되기 때문이다."
   ]
  },
  {
   "cell_type": "code",
   "execution_count": 3,
   "metadata": {},
   "outputs": [
    {
     "name": "stdout",
     "output_type": "stream",
     "text": [
      "57\n",
      "66\n"
     ]
    }
   ],
   "source": [
    "value = int(input())\n",
    "\n",
    "s = 0\n",
    "i = 1\n",
    "while s < value :\n",
    "    s += i\n",
    "    i += 1\n",
    "\n",
    "print(s)"
   ]
  }
 ],
 "metadata": {
  "kernelspec": {
   "display_name": "Python 3",
   "language": "python",
   "name": "python3"
  },
  "language_info": {
   "codemirror_mode": {
    "name": "ipython",
    "version": 3
   },
   "file_extension": ".py",
   "mimetype": "text/x-python",
   "name": "python",
   "nbconvert_exporter": "python",
   "pygments_lexer": "ipython3",
   "version": "3.7.9"
  }
 },
 "nbformat": 4,
 "nbformat_minor": 4
}
