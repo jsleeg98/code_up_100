{
 "cells": [
  {
   "cell_type": "markdown",
   "metadata": {},
   "source": [
    "월이 입력될 때 계절 이름이 출력되도록 해보자.\n",
    "\n",
    "예\n",
    "월 : 계절 이름\n",
    "12, 1, 2 : winter\n",
    "  3, 4, 5 : spring\n",
    "  6, 7, 8 : summer\n",
    "  9, 10, 11 : fall\n",
    "\n",
    "참고\n",
    "swtich( ).. case ... break; 제어문에서\n",
    "break;를 제거하면 멈추지 않고 다음 명령이 실행되는 특성을 이용할 수 있다.\n",
    "\n",
    "switch(a)\n",
    "{\n",
    "  ...\n",
    "  case 3:\n",
    "  case 4:\n",
    "  case 5:\n",
    "    printf(\"spring\");\n",
    "  break;\n",
    "  ...\n",
    "}\n",
    "로 작성하면, 3, 4, 5가 입력되었을 때 모두 \"spring\"이 출력된다.\n",
    "\n",
    "** 12, 1, 2 는 어떻게 처리해야 할지 여러 가지로 생각해 보아야 한다."
   ]
  },
  {
   "cell_type": "code",
   "execution_count": 19,
   "metadata": {},
   "outputs": [
    {
     "name": "stdout",
     "output_type": "stream",
     "text": [
      "11\n",
      "fall\n"
     ]
    }
   ],
   "source": [
    "value = int(input())\n",
    "\n",
    "if (value == 12 or value == 1 or value == 2):\n",
    "    print('winter')\n",
    "\n",
    "elif (value == 3 or value == 4 or value == 5):\n",
    "    print('spring')\n",
    "    \n",
    "elif value >= 6 and value <= 8:\n",
    "    print('summer')\n",
    "    \n",
    "else:\n",
    "    print('fall')\n"
   ]
  }
 ],
 "metadata": {
  "kernelspec": {
   "display_name": "Python 3",
   "language": "python",
   "name": "python3"
  },
  "language_info": {
   "codemirror_mode": {
    "name": "ipython",
    "version": 3
   },
   "file_extension": ".py",
   "mimetype": "text/x-python",
   "name": "python",
   "nbconvert_exporter": "python",
   "pygments_lexer": "ipython3",
   "version": "3.7.9"
  }
 },
 "nbformat": 4,
 "nbformat_minor": 4
}
