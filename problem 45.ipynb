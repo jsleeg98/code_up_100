{
 "cells": [
  {
   "cell_type": "markdown",
   "metadata": {},
   "source": [
    "정수 2개(a, b)를 입력받아 합, 차, 곱, 몫, 나머지, 나눈 값을 자동으로 계산해보자.\n",
    "단 0 <= a, b <= 2147483647, b는 0이 아니다.\n",
    "\n",
    "입력\n",
    "\n",
    "정수 2개가 공백을 두고 입력된다.\n",
    "\n",
    "출력\n",
    "\n",
    "첫 줄에 합\n",
    "둘째 줄에 차,\n",
    "셋째 줄에 곱,\n",
    "넷째 줄에 몫,\n",
    "다섯째 줄에 나머지,\n",
    "여섯째 줄에 나눈 값을 순서대로 출력한다.\n",
    "(실수, 소수점 이하 셋째 자리에서 반올림해 둘째 자리까지 출력)"
   ]
  },
  {
   "cell_type": "code",
   "execution_count": 11,
   "metadata": {},
   "outputs": [
    {
     "name": "stdout",
     "output_type": "stream",
     "text": [
      "12 54\n",
      "66\n",
      "-42\n",
      "648\n",
      "0\n",
      "12\n",
      "0.22\n"
     ]
    }
   ],
   "source": [
    "value = input()\n",
    "a, b = value.split(' ')\n",
    "a = int(a)\n",
    "b = int(b)\n",
    "print(a+b)\n",
    "print(a-b)\n",
    "print(a*b)\n",
    "print(int(a/b))\n",
    "print(int(a%b))\n",
    "print(\"%.2f\" %(a/b))"
   ]
  }
 ],
 "metadata": {
  "kernelspec": {
   "display_name": "Python 3",
   "language": "python",
   "name": "python3"
  },
  "language_info": {
   "codemirror_mode": {
    "name": "ipython",
    "version": 3
   },
   "file_extension": ".py",
   "mimetype": "text/x-python",
   "name": "python",
   "nbconvert_exporter": "python",
   "pygments_lexer": "ipython3",
   "version": "3.7.9"
  }
 },
 "nbformat": 4,
 "nbformat_minor": 4
}
