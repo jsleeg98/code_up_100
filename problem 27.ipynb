{
 "cells": [
  {
   "cell_type": "code",
   "execution_count": 2,
   "metadata": {},
   "outputs": [
    {
     "data": {
      "text/plain": [
       "'\\n년월일을 출력하는 방법은 나라마다, 형식마다 조금씩 다르다.\\n\\n년월일(yyyy.mm.dd)를 입력받아,\\n\\n일월년(dd-mm-yyyy)로 출력해보자.\\n\\n(단, 한 자리 일/월은 0을 붙여 두자리로, 년도도 0을 붙여 네자리로 출력한다.) \\n\\n\\n참고\\n출력하는 자리수를 지정하기 위해 %4d와 같은 형식을 사용할 수 있는데,\\n빈칸을 0으로 출력하기 위해서는 %04d와 같은 형식을 사용하면 된다.\\n\\n예시\\nprintf(\"%02d-%02d-%04d\", d, m, y);\\n'"
      ]
     },
     "execution_count": 2,
     "metadata": {},
     "output_type": "execute_result"
    }
   ],
   "source": [
    "\"\"\"\n",
    "년월일을 출력하는 방법은 나라마다, 형식마다 조금씩 다르다.\n",
    "\n",
    "년월일(yyyy.mm.dd)를 입력받아,\n",
    "\n",
    "일월년(dd-mm-yyyy)로 출력해보자.\n",
    "\n",
    "(단, 한 자리 일/월은 0을 붙여 두자리로, 년도도 0을 붙여 네자리로 출력한다.) \n",
    "\n",
    "\n",
    "참고\n",
    "출력하는 자리수를 지정하기 위해 %4d와 같은 형식을 사용할 수 있는데,\n",
    "빈칸을 0으로 출력하기 위해서는 %04d와 같은 형식을 사용하면 된다.\n",
    "\n",
    "예시\n",
    "printf(\"%02d-%02d-%04d\", d, m, y);\n",
    "\"\"\""
   ]
  },
  {
   "cell_type": "code",
   "execution_count": 5,
   "metadata": {},
   "outputs": [
    {
     "name": "stdout",
     "output_type": "stream",
     "text": [
      "1234.12.1\n",
      "01-12-1234\n"
     ]
    }
   ],
   "source": [
    "a = input();\n",
    "y, m, d = a.split(\".\")\n",
    "# .zfill() 은 문자열 앞에 0을 채워주는 메소드\n",
    "d = d.zfill(2)\n",
    "m = m.zfill(2)\n",
    "y = y.zfill(4)\n",
    "print(d + \"-\" + m + \"-\" + y)"
   ]
  }
 ],
 "metadata": {
  "kernelspec": {
   "display_name": "Python 3",
   "language": "python",
   "name": "python3"
  },
  "language_info": {
   "codemirror_mode": {
    "name": "ipython",
    "version": 3
   },
   "file_extension": ".py",
   "mimetype": "text/x-python",
   "name": "python",
   "nbconvert_exporter": "python",
   "pygments_lexer": "ipython3",
   "version": "3.7.9"
  }
 },
 "nbformat": 4,
 "nbformat_minor": 4
}
