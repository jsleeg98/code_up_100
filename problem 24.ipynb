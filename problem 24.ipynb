{
 "cells": [
  {
   "cell_type": "code",
   "execution_count": 1,
   "metadata": {},
   "outputs": [
    {
     "data": {
      "text/plain": [
       "\"\\n단어의 문자(영어)를 하나씩 나누어 한 줄에 한 개씩\\n' '로 묶어서 출력한다.\\n\""
      ]
     },
     "execution_count": 1,
     "metadata": {},
     "output_type": "execute_result"
    }
   ],
   "source": [
    "\"\"\"\n",
    "단어를 1개 입력받는다.\n",
    "\n",
    "입력받은 단어(영어)의 각 문자를\n",
    "\n",
    "한줄에 한 문자씩 분리해 출력한다.\n",
    "\"\"\"\n",
    "\"\"\"\n",
    "단어(영어) 하나를 입력받는다.\n",
    "(단, 단어의 길이는 20자 이하이다.)\n",
    "\"\"\"\n",
    "\"\"\"\n",
    "단어의 문자(영어)를 하나씩 나누어 한 줄에 한 개씩\n",
    "' '로 묶어서 출력한다.\n",
    "\"\"\""
   ]
  },
  {
   "cell_type": "code",
   "execution_count": 9,
   "metadata": {},
   "outputs": [
    {
     "name": "stdout",
     "output_type": "stream",
     "text": [
      "sldkf\n",
      "'s'\n",
      "'l'\n",
      "'d'\n",
      "'k'\n",
      "'f'\n"
     ]
    }
   ],
   "source": [
    "a = input();\n",
    "for letter in a:\n",
    "    print(\"'%s'\" %letter);"
   ]
  }
 ],
 "metadata": {
  "kernelspec": {
   "display_name": "Python 3",
   "language": "python",
   "name": "python3"
  },
  "language_info": {
   "codemirror_mode": {
    "name": "ipython",
    "version": 3
   },
   "file_extension": ".py",
   "mimetype": "text/x-python",
   "name": "python",
   "nbconvert_exporter": "python",
   "pygments_lexer": "ipython3",
   "version": "3.7.6"
  }
 },
 "nbformat": 4,
 "nbformat_minor": 4
}
