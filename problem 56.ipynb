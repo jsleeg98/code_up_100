{
 "cells": [
  {
   "cell_type": "markdown",
   "metadata": {},
   "source": [
    "두 가지의 참(1) 또는 거짓(0)이 입력될 때,\n",
    "참/거짓이 서로 다를 때에만 참을 출력하는 프로그램을 작성해보자.\n",
    "\n",
    "\n",
    "참고\n",
    "이러한 논리연산을 XOR(exclusive or, 배타적 논리합)연산이라고도 부른다.\n",
    "집합의 의미로는 합집합에서 교집합을 뺀 것을 의미한다. 모두 같은 의미이다.\n",
    "\n",
    "논리연산자는 사칙연산자와 마찬가지로 여러 번 중복해서 사용할 수 있는데,\n",
    "연산의 순서를 만들어주기 위해 괄호 ( )를 사용해 묶어 주면 된다.\n",
    "\n",
    "수학에서는 괄호, 중괄호, 대괄호를 사용하지만 C언어에서는 소괄호 ( )만을 사용한다.\n",
    "\n",
    "예시\n",
    "printf(“%d”, (a&&!b)||(!a&&b)); //참/거짓이 서로 다를 때에만 1로 계산\n"
   ]
  },
  {
   "cell_type": "code",
   "execution_count": 19,
   "metadata": {},
   "outputs": [
    {
     "name": "stdout",
     "output_type": "stream",
     "text": [
      "1 0\n",
      "1\n"
     ]
    }
   ],
   "source": [
    "a, b = input().split(' ')\n",
    "a = int(a)\n",
    "b = int(b)\n",
    "b_a = bool(a)\n",
    "b_b = bool(b)\n",
    "n_b_a = not b_a\n",
    "n_b_b = not b_b\n",
    "\n",
    "if (b_a &  n_b_b) | (n_b_a & b_b) :\n",
    "    print(1)\n",
    "else:\n",
    "    print(0)"
   ]
  },
  {
   "cell_type": "code",
   "execution_count": 20,
   "metadata": {},
   "outputs": [
    {
     "name": "stdout",
     "output_type": "stream",
     "text": [
      "1 0\n",
      "1\n"
     ]
    }
   ],
   "source": [
    "a,b=input().split()\n",
    "\n",
    "x=int(a)\n",
    "y=int(b)\n",
    "b1=bool(x)\n",
    "b2=bool(y)\n",
    "\n",
    "z=int((b1==True and b2==False) or (b1==False and b2==True))\n",
    "\n",
    "print(z)"
   ]
  }
 ],
 "metadata": {
  "kernelspec": {
   "display_name": "Python 3",
   "language": "python",
   "name": "python3"
  },
  "language_info": {
   "codemirror_mode": {
    "name": "ipython",
    "version": 3
   },
   "file_extension": ".py",
   "mimetype": "text/x-python",
   "name": "python",
   "nbconvert_exporter": "python",
   "pygments_lexer": "ipython3",
   "version": "3.7.9"
  }
 },
 "nbformat": 4,
 "nbformat_minor": 4
}
