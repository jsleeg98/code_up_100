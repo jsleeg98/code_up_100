{
 "cells": [
  {
   "cell_type": "markdown",
   "metadata": {},
   "source": [
    "두 개의 참(1) 또는 거짓(0)이 입력될 때,\n",
    "하나라도 참이면 참을 출력하는 프로그램을 작성해보자.\n",
    "\n",
    "\n",
    "참고\n",
    "논리연산자 || 는 주어진 2개의 논리값 중에 하나라도 참(1) 이면 1(참)로 계산하고,\n",
    "그 외의 경우에는 0(거짓) 으로 계산한다.\n",
    "\n",
    "** | 기호는 쉬프트를 누른 상태에서 백슬래시(\\)를 누르면 나오는 기호로,\n",
    "버티컬 바(vertical bar) 기호이다.\n",
    "\n",
    "이러한 논리연산을 OR 연산이라고도 부르고,\n",
    "+ 로 표시하며, 집합 기호로는 ∪(합집합, union)을 사용한다. 모두 같은 의미이다.\n",
    "\n",
    "참, 거짓의 논리값(boolean value)인 불 값을 다루어주는 논리연산자는\n",
    "!(not), &&(and), ||(or) 이 있다.\n",
    "\n",
    "** 불 대수(boolean algebra)는 수학자 불이 만들어낸 것으로\n",
    "참/거짓만 가지는 논리값과 그 연산을 다룬다.\n",
    "\n",
    "예시\n",
    "printf(\"%d\", 0||0); //둘 다 거짓을 의미하므로 0이 계산되어 출력된다."
   ]
  },
  {
   "cell_type": "code",
   "execution_count": 5,
   "metadata": {},
   "outputs": [
    {
     "name": "stdout",
     "output_type": "stream",
     "text": [
      "0 0\n",
      "0\n"
     ]
    }
   ],
   "source": [
    "a, b = input().split(' ')\n",
    "a = int(a)\n",
    "b = int(b)\n",
    "b_a = bool(a)\n",
    "b_b = bool(b)\n",
    "result = (b_a | b_b)\n",
    "print(int(result))"
   ]
  },
  {
   "cell_type": "code",
   "execution_count": null,
   "metadata": {},
   "outputs": [],
   "source": []
  }
 ],
 "metadata": {
  "kernelspec": {
   "display_name": "Python 3",
   "language": "python",
   "name": "python3"
  },
  "language_info": {
   "codemirror_mode": {
    "name": "ipython",
    "version": 3
   },
   "file_extension": ".py",
   "mimetype": "text/x-python",
   "name": "python",
   "nbconvert_exporter": "python",
   "pygments_lexer": "ipython3",
   "version": "3.7.9"
  }
 },
 "nbformat": 4,
 "nbformat_minor": 4
}
