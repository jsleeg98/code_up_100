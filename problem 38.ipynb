{
 "cells": [
  {
   "cell_type": "markdown",
   "metadata": {},
   "source": [
    "정수 2개를 입력받아 합을 출력하는 프로그램을 작성해보자.  \n",
    "\n",
    "(단, 입력되는 정수는 -1073741824 ~ 1073741824 이다.)\n",
    "\n",
    "2개의 정수가 공백으로 구분되어 입력된다.\n",
    "** 주의 : 계산의 결과가 int 범위를 넘어가는지를 잘 생각해 보아야 한다."
   ]
  },
  {
   "cell_type": "code",
   "execution_count": 3,
   "metadata": {},
   "outputs": [
    {
     "name": "stdout",
     "output_type": "stream",
     "text": [
      "12 -12\n",
      "0\n"
     ]
    }
   ],
   "source": [
    "value = input()\n",
    "a, b = value.split(' ')\n",
    "a = int(a)\n",
    "b = int(b)\n",
    "print(a+b)\n"
   ]
  }
 ],
 "metadata": {
  "kernelspec": {
   "display_name": "Python 3",
   "language": "python",
   "name": "python3"
  },
  "language_info": {
   "codemirror_mode": {
    "name": "ipython",
    "version": 3
   },
   "file_extension": ".py",
   "mimetype": "text/x-python",
   "name": "python",
   "nbconvert_exporter": "python",
   "pygments_lexer": "ipython3",
   "version": "3.7.9"
  }
 },
 "nbformat": 4,
 "nbformat_minor": 4
}
