{
 "cells": [
  {
   "cell_type": "markdown",
   "metadata": {},
   "source": [
    "1부터 입력한 정수까지 1씩 증가시켜 출력하는 프로그램을 작성하되,\n",
    "3의 배수인 경우는 출력하지 않도록 만들어보자.\n",
    "\n",
    "예를 들면,\n",
    "1 2 4 5 7 8 10 11 13 14 ...\n",
    "와 같이 출력하는 것이다.\n",
    "\n",
    "\n",
    "참고\n",
    "반복문 안에서 continue;가 실행되면 그 아래의 내용을 건너뛰고, 다음 반복을 수행한다.\n",
    "즉, 다음 반복으로 넘어가는 것이다.\n",
    "\n",
    "예시\n",
    "for(i=1; i<=n; i++) //1부터 시작해 n까지 1씩 증가시키면서 반복한다.\n",
    "{\n",
    "  if(i%2==0)\n",
    "    continue; //짝수라면? 아래 부분은 건너뛰고! 계속~\n",
    "  printf(\"%d \", i); //결국 짝수가 아닐 때에만 출력된다.\n",
    "}"
   ]
  },
  {
   "cell_type": "code",
   "execution_count": 1,
   "metadata": {},
   "outputs": [
    {
     "name": "stdout",
     "output_type": "stream",
     "text": [
      "10\n",
      "1\n",
      "2\n",
      "4\n",
      "5\n",
      "7\n",
      "8\n",
      "10\n"
     ]
    }
   ],
   "source": [
    "value = int(input())\n",
    "\n",
    "for i in range(1, value + 1):\n",
    "    if i % 3 == 0 :\n",
    "        continue\n",
    "    else :\n",
    "        print(i)"
   ]
  }
 ],
 "metadata": {
  "kernelspec": {
   "display_name": "Python 3",
   "language": "python",
   "name": "python3"
  },
  "language_info": {
   "codemirror_mode": {
    "name": "ipython",
    "version": 3
   },
   "file_extension": ".py",
   "mimetype": "text/x-python",
   "name": "python",
   "nbconvert_exporter": "python",
   "pygments_lexer": "ipython3",
   "version": "3.7.9"
  }
 },
 "nbformat": 4,
 "nbformat_minor": 4
}
