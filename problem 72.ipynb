{
 "cells": [
  {
   "cell_type": "markdown",
   "metadata": {},
   "source": [
    "n개의 정수가 순서대로 입력된다.\n",
    "-2147483648 ~ +2147483647, 단 n의 최대 개수는 알 수 없다.\n",
    "\n",
    "n개의 입력된 정수를 순서대로 출력해보자.\n",
    "\n",
    "while( ), for( ), do~while( ) 등의 반복문을 사용할 수 없다.\n",
    "\n",
    "\n",
    "예시\n",
    "  int n, m;\n",
    "  scanf(\"%d\", &n);\n",
    "reget: //레이블은 콜론( : ) 으로 끝난다.\n",
    "  scanf(\"%d\", &m);\n",
    "  printf(\"%d\\n\", m);\n",
    "  if(n-- != 0) goto reget; //reget:으로 이동, n의 값 1만큼 감소"
   ]
  },
  {
   "cell_type": "code",
   "execution_count": 3,
   "metadata": {},
   "outputs": [
    {
     "name": "stdout",
     "output_type": "stream",
     "text": [
      "5\n",
      "1 2 3 4 5\n",
      "1\n",
      "2\n",
      "3\n",
      "4\n",
      "5\n"
     ]
    }
   ],
   "source": [
    "count = int(input())\n",
    "values = input().split()\n",
    "for i in range(count) :\n",
    "    print(values[i])"
   ]
  }
 ],
 "metadata": {
  "kernelspec": {
   "display_name": "Python 3",
   "language": "python",
   "name": "python3"
  },
  "language_info": {
   "codemirror_mode": {
    "name": "ipython",
    "version": 3
   },
   "file_extension": ".py",
   "mimetype": "text/x-python",
   "name": "python",
   "nbconvert_exporter": "python",
   "pygments_lexer": "ipython3",
   "version": "3.7.9"
  }
 },
 "nbformat": 4,
 "nbformat_minor": 4
}
