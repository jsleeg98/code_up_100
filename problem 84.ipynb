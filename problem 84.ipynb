{
 "cells": [
  {
   "cell_type": "markdown",
   "metadata": {},
   "source": [
    "빨강(red), 초록(green), 파랑(blue) 빛을 섞어\n",
    "여러 가지 빛의 색을 만들어 내려고 한다.\n",
    "\n",
    "빨강(r), 초록(g), 파랑(b) 각각의 빛의 개수가 주어질 때,\n",
    "(빛의 강약에 따라 0 ~ n-1 까지 n가지의 빛 색깔을 만들 수 있다.)\n",
    "\n",
    "주어진 rgb 빛들을 다르게 섞어 만들 수 있는 모든 경우의 조합(r g b)과\n",
    "총 가짓 수를 계산해보자.\n",
    "\n",
    "\n",
    "예시\n",
    "int i, j, k, c=0;\n",
    "int r, g, b;\n",
    "scanf(\"%d%d%d”, &r, &g, &b);\n",
    "\n",
    "for(i=0; i<r; i++)\n",
    "  for(j=0; j<g; j++)\n",
    "    for(k=0; k<b; k++)\n",
    "    {\n",
    "      printf(\"%d %d %d\\n\", i, j, k);\n",
    "      c++;\n",
    "    }\n",
    "\n",
    "printf(\"%d \", c);\n"
   ]
  },
  {
   "cell_type": "code",
   "execution_count": 4,
   "metadata": {},
   "outputs": [
    {
     "name": "stdout",
     "output_type": "stream",
     "text": [
      "2 2 2\n",
      "0 0 0\n",
      "0 0 1\n",
      "0 1 0\n",
      "0 1 1\n",
      "1 0 0\n",
      "1 0 1\n",
      "1 1 0\n",
      "1 1 1\n",
      "8\n"
     ]
    }
   ],
   "source": [
    "a, b, c = input().split()\n",
    "a = int(a)\n",
    "b = int(b)\n",
    "c = int(c)\n",
    "\n",
    "for i in range(a):\n",
    "    for j in range(b):\n",
    "        for k in range(c):\n",
    "            print(\"%d %d %d\" %(i, j, k))\n",
    "\n",
    "print(a*b*c)"
   ]
  }
 ],
 "metadata": {
  "kernelspec": {
   "display_name": "Python 3",
   "language": "python",
   "name": "python3"
  },
  "language_info": {
   "codemirror_mode": {
    "name": "ipython",
    "version": 3
   },
   "file_extension": ".py",
   "mimetype": "text/x-python",
   "name": "python",
   "nbconvert_exporter": "python",
   "pygments_lexer": "ipython3",
   "version": "3.7.9"
  }
 },
 "nbformat": 4,
 "nbformat_minor": 4
}
